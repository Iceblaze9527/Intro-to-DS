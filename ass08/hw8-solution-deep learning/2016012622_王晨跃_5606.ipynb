{
 "cells": [
  {
   "cell_type": "markdown",
   "metadata": {},
   "source": [
    "# Deep Learning\n",
    "**Multilayer Perceptron (MLP)**: In this homework you are required to implement and train a 3-layer neural network to classify images of hand-written digits from the MNIST dataset. The input to the network will be a 28 × 28-pixel image, which is converted into a 784-dimensional vector. The output will be a vector of 10 probabilities (one for each digit). Specifically, the network you create should implement a function $g: \\mathbb{R}^{784} \\rightarrow \\mathbb{R}^{10}$, where:\n",
    "\n",
    "$$\\mathbf{z}_{1} = \\mathbf{W}^{(1)}\\mathbf{x} + \\mathbf{b}^{(1)}$$\n",
    "$$\\mathbf{h}_1 = ReLU(\\mathbf{z}_1)$$\n",
    "$$\\mathbf{z}_2 = \\mathbf{W}^{(2)}\\mathbf{h}_1 + \\mathbf{b}^{(2)}$$\n",
    "$$\\hat{\\mathbf{y}} = g(\\mathbf{x}) = Softmax(\\mathbf{z}_2)$$"
   ]
  },
  {
   "cell_type": "markdown",
   "metadata": {},
   "source": [
    "**Forward Propagation**: Compute the intermediate outputs $\\mathbf{z}_{1}$, $\\mathbf{h}_{1}$, $\\mathbf{z}_{2}$, and $\\hat{\\mathbf{y}}$ as the directed graph shown below:"
   ]
  },
  {
   "cell_type": "markdown",
   "metadata": {},
   "source": [
    "![jupyter](./img/mlp.jpg)"
   ]
  },
  {
   "cell_type": "markdown",
   "metadata": {},
   "source": [
    "**Loss function**: After forward propagation, you should use the cross-entropy loss function: \n",
    "$$ f_{CE}(\\mathbf{W}^{(1)},\\mathbf{b}^{(1)}, \\mathbf{W}^{(2)}, \\mathbf{b}^{(2)}) =  - \\frac{1}{n}\\sum_{i=1}^{n} \\sum_{k=1}^{10} \\mathbf{y}_k^{(i)} \\log \\hat{\\mathbf{y}}_k^{(i)} $$\n",
    "where $n$ is the number of examples."
   ]
  },
  {
   "cell_type": "markdown",
   "metadata": {},
   "source": [
    "**Backwards Propagation**: To train the neural network, you should use stochastic gradient descent (SGD). \n",
    "\n",
    "# Question 1:\n",
    "Compute the individual gradient for each term"
   ]
  },
  {
   "cell_type": "markdown",
   "metadata": {},
   "source": [
    "$$ \\frac{\\partial f_{CE}}{\\partial \\mathbf{W}^{(2)}}  =  \\frac{1}{n}\\sum_{i=1}^{n}  (\\hat{\\mathbf{y}}^{(i)} - \\mathbf{y}^{(i)})  (\\mathbf{h_1}^{(i)})^{T}  $$\n",
    "\n",
    "\n",
    "$$ \\frac{\\partial f_{CE}}{\\partial \\mathbf{b}^{(2)}} =  \\frac{1}{n}\\sum_{i=1}^{n}  (\\hat{\\mathbf{y}}^{(i)} - \\mathbf{y}^{(i)})   $$\n",
    "\n",
    "\n",
    "$$ \\frac{\\partial f_{CE}}{\\partial \\mathbf{W}^{(1)}} = \\frac{1}{n}\\sum_{i=1}^{n}  ((\\hat{\\mathbf{y}}^{(i)} - \\mathbf{y}^{(i)})^{T} \\mathbf W^{(2)})^{T} \\circ sgn(\\mathbf{z_1}^{(i)}) (\\mathbf{x}^{(i)})^{T}$$ \n",
    "    \n",
    "    \n",
    "$$ \\frac{\\partial f_{CE}}{\\partial \\mathbf{b}^{(1)}} =  \\frac{1}{n}\\sum_{i=1}^{n}  ((\\hat{\\mathbf{y}}^{(i)} - \\mathbf{y}^{(i)})^{T} \\mathbf W^{(2)})^{T} \\circ sgn(\\mathbf{z_1}^{(i)})   $$"
   ]
  },
  {
   "cell_type": "markdown",
   "metadata": {},
   "source": [
    "# Question 2: \n",
    "Implement stochastic gradient descent for the network shown above in the *Starter Code* Below"
   ]
  },
  {
   "cell_type": "markdown",
   "metadata": {},
   "source": [
    "# Question 3: \n",
    "Verify that your implemented gradient functions are correct using a numerical derivative approximation in *scipy.optimize.check_grad*\n",
    "\n",
    "See the call to check grad in the starter code. \n",
    "\n",
    "Note that: the discrepancy should be less than 0.01."
   ]
  },
  {
   "cell_type": "markdown",
   "metadata": {},
   "source": [
    "# Question 4: \n",
    "Train the network using proper hyper-parameters (batch size, learning rate etc), and report the train accuracy and test accuracy in the *Starter Code* Below\n"
   ]
  },
  {
   "cell_type": "markdown",
   "metadata": {},
   "source": [
    "**NOTE THAT**: You only need to submit this '.ipynb' file."
   ]
  },
  {
   "cell_type": "markdown",
   "metadata": {},
   "source": [
    "# Starter Code: "
   ]
  },
  {
   "cell_type": "code",
   "execution_count": 114,
   "metadata": {},
   "outputs": [],
   "source": [
    "import numpy as np\n",
    "import scipy.optimize\n",
    "import scipy.special\n",
    "import matplotlib.pyplot as plt\n",
    "\n",
    "NUM_INPUT = 784  # Number of input neurons\n",
    "NUM_HIDDEN = 50  # Number of hidden neurons\n",
    "NUM_OUTPUT = 10  # Number of output neurons\n",
    "NUM_CHECK = 5  # Number of examples on which to check the gradient\n",
    "\n",
    "def relu(X):\n",
    "    return (np.abs(X) + X)/2\n",
    "\n",
    "def relu_back(X):\n",
    "    X_grad = np.copy(X)\n",
    "    X_grad[X_grad <= 0] = 0\n",
    "    X_grad[X_grad > 0] = 1\n",
    "    return X_grad\n",
    "\n",
    "def softmax(X):\n",
    "    t = np.exp(X)\n",
    "    a = np.exp(X) / np.sum(t, axis=0, keepdims=True) # compute softamx by column\n",
    "    return a\n",
    "\n",
    "def cross_entropy(Y_hat, Y):\n",
    "    N = Y_hat.shape[1]\n",
    "    ce = -np.sum(Y*np.log(Y_hat))/N\n",
    "    return ce\n",
    "\n",
    "# data = np.array([[5,4,3],[5,4,3]])\n",
    "# print(softmax(data))"
   ]
  },
  {
   "cell_type": "code",
   "execution_count": 115,
   "metadata": {},
   "outputs": [],
   "source": [
    "# Given a vector w containing all the weights and biased vectors, extract\n",
    "# and return the individual weights and biases W1, b1, W2, b2.\n",
    "# This is useful for performing a gradient check with check_grad.\n",
    "def unpack (w):\n",
    "    # W1 of (50, 784), b1 of (50, 1), W2 of (10, 50), b2 of (10, 1)\n",
    "    W1 = w[ : NUM_HIDDEN*NUM_INPUT].reshape(NUM_HIDDEN, NUM_INPUT)\n",
    "    b1 = w[NUM_HIDDEN*NUM_INPUT : NUM_HIDDEN*NUM_INPUT + NUM_HIDDEN].reshape(NUM_HIDDEN, 1)\n",
    "    W2 = w[NUM_HIDDEN*NUM_INPUT+NUM_HIDDEN : NUM_HIDDEN*NUM_INPUT+NUM_HIDDEN+NUM_OUTPUT*NUM_HIDDEN].reshape(NUM_OUTPUT, NUM_HIDDEN)\n",
    "    b2 = w[NUM_HIDDEN*NUM_INPUT+NUM_HIDDEN+NUM_OUTPUT*NUM_HIDDEN : ].reshape(NUM_OUTPUT, 1)\n",
    "    return W1, b1, W2, b2\n",
    "\n",
    "# Given individual weights and biases W1, b1, W2, b2, concatenate them and\n",
    "# return a vector w containing all of them.\n",
    "# This is useful for performing a gradient check with check_grad.\n",
    "def pack (W1, b1, W2, b2):\n",
    "    w = np.concatenate((W1.flatten(), b1.flatten(), W2.flatten(), b2.flatten()))\n",
    "    return w\n",
    "\n",
    "# Load the images and labels from a specified dataset (train or test).\n",
    "def loadData (which):\n",
    "    images = np.load(\"data/mnist_{}_images.npy\".format(which))\n",
    "    labels = np.load(\"data/mnist_{}_labels.npy\".format(which))\n",
    "    return images, labels"
   ]
  },
  {
   "cell_type": "code",
   "execution_count": 121,
   "metadata": {},
   "outputs": [],
   "source": [
    "# Given training images X, associated labels Y, and a vector of combined weights\n",
    "# and bias terms w, compute and return the cross-entropy (CE) loss. You might\n",
    "# want to extend this function to return multiple arguments (in which case you\n",
    "# will also need to modify slightly the gradient check code below).\n",
    "def fCE (X, Y, w):\n",
    "    # X.shape= (784, 10000), Y.shape= (10, 10000)\n",
    "    # W1 of (50, 784), b1 of (50, 1), W2 of (10, 50), b2 of (10, 1)\n",
    "    W1, b1, W2, b2 = unpack(w)\n",
    "    Z1 = np.matmul(W1, X) + b1\n",
    "    H1 = relu(Z1)\n",
    "    # H1.shape= (50, 10000)\n",
    "    Z2 = np.matmul(W2, H1) + b2\n",
    "    Y_hat = softmax(Z2)\n",
    "    # Y_hat.shape(10, 10000)\n",
    "    cost = cross_entropy(Y_hat, Y)\n",
    "    return cost, Y_hat\n",
    "\n",
    "# Given training images X, associated labels Y, and a vector of combined weights\n",
    "# and bias terms w, compute and return the gradient of fCE. You might\n",
    "# want to extend this function to return multiple arguments (in which case you\n",
    "# will also need to modify slightly the gradient check code below).\n",
    "def gradCE (X, Y, w):\n",
    "    # X.shape= (784, 10000), Y.shape= (10, 10000)\n",
    "    # W1 of (50, 784), b1 of (50, 1), W2 of (10, 50), b2 of (10, 1)\n",
    "    W1, b1, W2, b2 = unpack(w)\n",
    "    \n",
    "    Z1 = np.matmul(W1, X) + b1\n",
    "    H1 = relu(Z1)\n",
    "    Z2 = np.matmul(W2, H1) + b2\n",
    "    Y_hat = softmax(Z2)\n",
    "    \n",
    "    grad_b2 = np.mean(Y_hat - Y, axis=1).reshape(-1, 1)\n",
    "    # grad_b2 of (10, 1)\n",
    "    grad_W2 = np.matmul(Y_hat-Y, H1.T) / X.shape[1]\n",
    "    # grad_W2 of (10, 50)\n",
    "    \n",
    "    delta = np.matmul((Y_hat - Y).T, W2) * relu_back(Z1.T)\n",
    "    # shape of np.matmul((Y_hat - Y).T, W2) is (10000, 50), delta of (10000, 50)\n",
    "    grad_b1 = np.mean(delta.T, axis=1).reshape(-1, 1)\n",
    "    # grad_b1 of (50, 1)\n",
    "    grad_W1 = np.matmul(delta.T, X.T) / X.shape[1]\n",
    "    # grad_W1 of (50, 784)\n",
    "    \n",
    "    grad = pack(grad_W1, grad_b1, grad_W2, grad_b2)\n",
    "    return grad\n",
    "\n",
    "# Given training and testing datasets and an initial set of weights/biases b,\n",
    "# train the NN.\n",
    "## return the train accuracy and the test accuracy\n",
    "def train (trainX, trainY, testX, testY, w):\n",
    "    train_acc, test_acc = [], []\n",
    "\n",
    "    epochs = 500\n",
    "    minibatch = 32\n",
    "    learning_rate = 0.01\n",
    "    \n",
    "    for epoch in range(epochs):\n",
    "        # print(\"Training epoch {}\".format(epoch))\n",
    "        for batch in range(int(trainX.shape[1]/minibatch)):\n",
    "            Xbatch = trainX[:, batch*minibatch:(batch+1)*minibatch]\n",
    "            Ybatch = trainY[:, batch*minibatch:(batch+1)*minibatch]\n",
    "            w_grad = gradCE(Xbatch, Ybatch, w)\n",
    "            w = w - w_grad * learning_rate\n",
    "        \n",
    "        CE, Y_hat = fCE(trainX, trainY, w)\n",
    "        pred = np.argmax(Y_hat, axis=0)\n",
    "        gold = np.argmax(trainY, axis=0)\n",
    "        train_acc.append(np.mean(pred == gold))\n",
    "        # print(\"train_acc:\", np.mean(pred == gold))\n",
    "        \n",
    "        CE, Y_hat = fCE(testX, testY, w)\n",
    "        pred = np.argmax(Y_hat, axis=0)\n",
    "        gold = np.argmax(testY, axis=0)\n",
    "        # print(\"test_acc:\", np.mean(pred == gold))\n",
    "        test_acc.append(np.mean(pred == gold))\n",
    "\n",
    "    return np.array(train_acc), np.array(test_acc)"
   ]
  },
  {
   "cell_type": "code",
   "execution_count": 122,
   "metadata": {},
   "outputs": [
    {
     "name": "stdout",
     "output_type": "stream",
     "text": [
      "len(trainX):  10000\n",
      "len(testX):  5000\n",
      "My implemented cost and gradient functions are correct\n",
      "total epochs trained:  500\n",
      "best accuracy 0.9442 is reached at epoch 365\n"
     ]
    },
    {
     "data": {
      "image/png": "[encoded data removed]",
      "text/plain": [
       "<Figure size 432x288 with 1 Axes>"
      ]
     },
     "metadata": {
      "needs_background": "light"
     },
     "output_type": "display_data"
    }
   ],
   "source": [
    "if __name__ == \"__main__\":\n",
    "    # Load data\n",
    "    trainX, trainY = loadData(\"train\")\n",
    "    testX, testY = loadData(\"test\")\n",
    "\n",
    "    print(\"len(trainX): \", len(trainX))\n",
    "    print(\"len(testX): \", len(testX))\n",
    "    \n",
    "    # Initialize weights randomly\n",
    "    W1 = 2*(np.random.random(size=(NUM_INPUT, NUM_HIDDEN))/NUM_INPUT**0.5) - 1./NUM_INPUT**0.5\n",
    "    b1 = 0.01 * np.ones(NUM_HIDDEN)\n",
    "    W2 = 2*(np.random.random(size=(NUM_HIDDEN, NUM_OUTPUT))/NUM_HIDDEN**0.5) - 1./NUM_HIDDEN**0.5\n",
    "    b2 = 0.01 * np.ones(NUM_OUTPUT)\n",
    "    \n",
    "    # 根据顶部的表达式，各参数的尺寸应该为(对于单样本)：\n",
    "    # x of (784, 1)\n",
    "    # W1 of (50, 784), b1 of (50, 1), W2 of (10, 50), b2 of (10, 1)\n",
    "    # 作业中所给出的数据格式不是很符合惯例，进行转置调整\n",
    "    \n",
    "    trainX, trainY = trainX.T, trainY.T\n",
    "    testX, testY = testX.T, testY.T\n",
    "    W1, W2 = W1.T, W2.T\n",
    "    \n",
    "    # print(trainX.shape, testX.shape)\n",
    "    # print(W1.shape, b1.shape, W2.shape, b2.shape)\n",
    "    # 调整之后身心舒畅，可以按照第一题中的表达式进行计算梯度\n",
    "    \n",
    "    w = pack(W1, b1, W2, b2)\n",
    "    \n",
    "    # Check that the gradient is correct on just a few examples (randomly drawn).\n",
    "    idxs = np.random.permutation(trainX.shape[0])[0:NUM_CHECK]\n",
    "    discrepancy = scipy.optimize.check_grad(lambda w_: fCE(np.atleast_2d(trainX[:,idxs]), np.atleast_2d(trainY[:,idxs]), w_)[0], \\\n",
    "                                    lambda w_: gradCE(np.atleast_2d(trainX[:,idxs]), np.atleast_2d(trainY[:,idxs]), w_), \\\n",
    "                                    w)\n",
    "    \n",
    "    if discrepancy < 0.01:\n",
    "        print(\"My implemented cost and gradient functions are correct\")\n",
    "\n",
    "    # Train the network and return the train accuracy and test accuracy\n",
    "    train_acc, test_acc = train(trainX, trainY, testX, testY, w)\n",
    "    epochs = len(train_acc)\n",
    "    max_iter = test_acc.argmax()\n",
    "    max_acc = test_acc.max()\n",
    "    \n",
    "    print(\"total epochs trained: \", epochs)\n",
    "    print(\"best accuracy {} is reached at epoch {}\".format(max_acc, max_iter))\n",
    "    \n",
    "    plt.plot(range(epochs), train_acc)\n",
    "    plt.plot(range(epochs), test_acc)\n",
    "    "
   ]
  },
  {
   "cell_type": "code",
   "execution_count": null,
   "metadata": {},
   "outputs": [],
   "source": []
  }
 ],
 "metadata": {
  "kernelspec": {
   "display_name": "Python 3",
   "language": "python",
   "name": "python3"
  },
  "language_info": {
   "codemirror_mode": {
    "name": "ipython",
    "version": 3
   },
   "file_extension": ".py",
   "mimetype": "text/x-python",
   "name": "python",
   "nbconvert_exporter": "python",
   "pygments_lexer": "ipython3",
   "version": "3.7.0"
  }
 },
 "nbformat": 4,
 "nbformat_minor": 2
}
