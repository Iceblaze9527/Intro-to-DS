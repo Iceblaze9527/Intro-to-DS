{
 "cells": [
  {
   "cell_type": "markdown",
   "metadata": {},
   "source": [
    "# Income prediction\n",
    "\n",
    "Recall that we have done a homework of data exploration on 'income.csv' to master the knowledge of Exploratory Data Analysis. In this homework, you are required to predict whether a person's income is high or low according to his relevant information including his age, education, occupation, race and so on. \n",
    "\n",
    "\n",
    "The attribute information is:\n",
    "\n",
    "- **income**: the label of this dataset, belongs to \\[high, low\\] \n",
    "- **age**: the age of a person, a continuous variable.\n",
    "- **work_class**: work class, belongs to \\[Private, Self-emp-not-inc, Self-emp-inc, Federal-gov, Local-gov, State-gov, Without-pay, Never-worked\\].\n",
    "- **education**: belongs to \\[Bachelors, Some-college, 11th, HS-grad, Prof-school, Assoc-acdm, Assoc-voc, 9th, 7th-8th, 12th, - Masters, 1st-4th, 10th, Doctorate, 5th-6th, Preschool\\].\n",
    "- **education_degree**: the education level of a person, an ordinal number variable.\n",
    "- **marital_status**: marital status, belongs to \\[Married-civ-spouse, Divorced, Never-married, Separated, Widowed, Married-spouse-absent, Married-AF-spouse\\]. \n",
    "- **job**: occupation, belongs to \\[Tech-support, Craft-repair, Other-service, Sales, Exec-managerial, Prof-specialty, Handlers-cleaners, Machine-op-inspct, Adm-clerical, Farming-fishing, Transport-moving, Priv-house-serv, Protective-serv, Armed-Forces\\]. \n",
    "- **relationship**: belongs to \\[Wife, Own-child, Husband, Not-in-family, Other-relative, Unmarried\\].\n",
    "- **race**: belongs to \\[White, Asian-Pac-Islander, Amer-Indian-Eskimo, Other, Black\\]. \n",
    "- **sex**: belongs to \\[Female, Male\\]. \n",
    "- **capital_gain**: capital gain, a continuous variable. \n",
    "- **capital_loss**: capital loss, a continuous variable. \n",
    "- **hours_per_week**: how long a person works every week, a continuous variable. \n",
    "- **birthplace**: belongs to \\[United-States, Cambodia, England, Puerto-Rico, Canada, Germany, Outlying-US(Guam-USVI-etc), India, - Japan, Greece, South, China, Cuba, Iran, Honduras, Philippines, Italy, Poland, Jamaica, Vietnam, Mexico, Portugal, Ireland, France, Dominican-Republic, Laos, Ecuador, Taiwan, Haiti, Columbia, Hungary, Guatemala, Nicaragua, Scotland, Thailand, Yugoslavia, El-Salvador, Trinadad&Tobago, Peru, Hong, Holand-Netherlands\\]."
   ]
  },
  {
   "cell_type": "markdown",
   "metadata": {},
   "source": [
    "Specifically, you are required to **fill the blanks of this notebook** based on your results. In this assignment, you will analyze how different features, models and hyper-parameters influence the performance."
   ]
  },
  {
   "cell_type": "markdown",
   "metadata": {},
   "source": [
    "## 1. Load Data"
   ]
  },
  {
   "cell_type": "code",
   "execution_count": 1,
   "metadata": {},
   "outputs": [],
   "source": [
    "import pandas as pd\n",
    "import numpy as np\n",
    "import seaborn as sns\n",
    "import matplotlib.pyplot as plt\n",
    "import sklearn\n",
    "\n",
    "%matplotlib inline\n",
    "# %config InlineBackend.figure_format = 'svg'"
   ]
  },
  {
   "cell_type": "code",
   "execution_count": 2,
   "metadata": {},
   "outputs": [],
   "source": [
    "df = pd.read_csv('income.csv')"
   ]
  },
  {
   "cell_type": "markdown",
   "metadata": {},
   "source": [
    "## 2. Exploratory Data Analysis"
   ]
  },
  {
   "cell_type": "markdown",
   "metadata": {},
   "source": [
    "### Take a brief look at the data using `head()`"
   ]
  },
  {
   "cell_type": "code",
   "execution_count": 3,
   "metadata": {},
   "outputs": [
    {
     "data": {
      "text/html": [
       "<div>\n",
       "<style scoped>\n",
       "    .dataframe tbody tr th:only-of-type {\n",
       "        vertical-align: middle;\n",
       "    }\n",
       "\n",
       "    .dataframe tbody tr th {\n",
       "        vertical-align: top;\n",
       "    }\n",
       "\n",
       "    .dataframe thead th {\n",
       "        text-align: right;\n",
       "    }\n",
       "</style>\n",
       "<table border=\"1\" class=\"dataframe\">\n",
       "  <thead>\n",
       "    <tr style=\"text-align: right;\">\n",
       "      <th></th>\n",
       "      <th>age</th>\n",
       "      <th>work_class</th>\n",
       "      <th>education</th>\n",
       "      <th>education_degree</th>\n",
       "      <th>marital_status</th>\n",
       "      <th>job</th>\n",
       "      <th>relationship</th>\n",
       "      <th>race</th>\n",
       "      <th>sex</th>\n",
       "      <th>capital_gain</th>\n",
       "      <th>capital_loss</th>\n",
       "      <th>hours_per_week</th>\n",
       "      <th>birthplace</th>\n",
       "      <th>income</th>\n",
       "    </tr>\n",
       "  </thead>\n",
       "  <tbody>\n",
       "    <tr>\n",
       "      <th>0</th>\n",
       "      <td>90</td>\n",
       "      <td>NaN</td>\n",
       "      <td>HS-grad</td>\n",
       "      <td>9</td>\n",
       "      <td>Widowed</td>\n",
       "      <td>NaN</td>\n",
       "      <td>Not-in-family</td>\n",
       "      <td>White</td>\n",
       "      <td>Female</td>\n",
       "      <td>0</td>\n",
       "      <td>4356</td>\n",
       "      <td>40</td>\n",
       "      <td>United-States</td>\n",
       "      <td>low</td>\n",
       "    </tr>\n",
       "    <tr>\n",
       "      <th>1</th>\n",
       "      <td>82</td>\n",
       "      <td>Private</td>\n",
       "      <td>HS-grad</td>\n",
       "      <td>9</td>\n",
       "      <td>Widowed</td>\n",
       "      <td>Exec-managerial</td>\n",
       "      <td>Not-in-family</td>\n",
       "      <td>White</td>\n",
       "      <td>Female</td>\n",
       "      <td>0</td>\n",
       "      <td>4356</td>\n",
       "      <td>18</td>\n",
       "      <td>United-States</td>\n",
       "      <td>low</td>\n",
       "    </tr>\n",
       "    <tr>\n",
       "      <th>2</th>\n",
       "      <td>66</td>\n",
       "      <td>NaN</td>\n",
       "      <td>Some-college</td>\n",
       "      <td>10</td>\n",
       "      <td>Widowed</td>\n",
       "      <td>NaN</td>\n",
       "      <td>Unmarried</td>\n",
       "      <td>Black</td>\n",
       "      <td>Female</td>\n",
       "      <td>0</td>\n",
       "      <td>4356</td>\n",
       "      <td>40</td>\n",
       "      <td>United-States</td>\n",
       "      <td>low</td>\n",
       "    </tr>\n",
       "    <tr>\n",
       "      <th>3</th>\n",
       "      <td>54</td>\n",
       "      <td>Private</td>\n",
       "      <td>7th-8th</td>\n",
       "      <td>4</td>\n",
       "      <td>Divorced</td>\n",
       "      <td>Machine-op-inspct</td>\n",
       "      <td>Unmarried</td>\n",
       "      <td>White</td>\n",
       "      <td>Female</td>\n",
       "      <td>0</td>\n",
       "      <td>3900</td>\n",
       "      <td>40</td>\n",
       "      <td>United-States</td>\n",
       "      <td>low</td>\n",
       "    </tr>\n",
       "    <tr>\n",
       "      <th>4</th>\n",
       "      <td>41</td>\n",
       "      <td>Private</td>\n",
       "      <td>Some-college</td>\n",
       "      <td>10</td>\n",
       "      <td>Separated</td>\n",
       "      <td>Prof-specialty</td>\n",
       "      <td>Own-child</td>\n",
       "      <td>White</td>\n",
       "      <td>Female</td>\n",
       "      <td>0</td>\n",
       "      <td>3900</td>\n",
       "      <td>40</td>\n",
       "      <td>United-States</td>\n",
       "      <td>low</td>\n",
       "    </tr>\n",
       "  </tbody>\n",
       "</table>\n",
       "</div>"
      ],
      "text/plain": [
       "   age work_class     education  education_degree marital_status  \\\n",
       "0   90        NaN       HS-grad                 9        Widowed   \n",
       "1   82    Private       HS-grad                 9        Widowed   \n",
       "2   66        NaN  Some-college                10        Widowed   \n",
       "3   54    Private       7th-8th                 4       Divorced   \n",
       "4   41    Private  Some-college                10      Separated   \n",
       "\n",
       "                 job   relationship   race     sex  capital_gain  \\\n",
       "0                NaN  Not-in-family  White  Female             0   \n",
       "1    Exec-managerial  Not-in-family  White  Female             0   \n",
       "2                NaN      Unmarried  Black  Female             0   \n",
       "3  Machine-op-inspct      Unmarried  White  Female             0   \n",
       "4     Prof-specialty      Own-child  White  Female             0   \n",
       "\n",
       "   capital_loss  hours_per_week     birthplace income  \n",
       "0          4356              40  United-States    low  \n",
       "1          4356              18  United-States    low  \n",
       "2          4356              40  United-States    low  \n",
       "3          3900              40  United-States    low  \n",
       "4          3900              40  United-States    low  "
      ]
     },
     "execution_count": 3,
     "metadata": {},
     "output_type": "execute_result"
    }
   ],
   "source": [
    "df.head()"
   ]
  },
  {
   "cell_type": "markdown",
   "metadata": {},
   "source": [
    "### Observe the basic statistical information of continuous attributes"
   ]
  },
  {
   "cell_type": "code",
   "execution_count": 4,
   "metadata": {},
   "outputs": [
    {
     "data": {
      "text/html": [
       "<div>\n",
       "<style scoped>\n",
       "    .dataframe tbody tr th:only-of-type {\n",
       "        vertical-align: middle;\n",
       "    }\n",
       "\n",
       "    .dataframe tbody tr th {\n",
       "        vertical-align: top;\n",
       "    }\n",
       "\n",
       "    .dataframe thead th {\n",
       "        text-align: right;\n",
       "    }\n",
       "</style>\n",
       "<table border=\"1\" class=\"dataframe\">\n",
       "  <thead>\n",
       "    <tr style=\"text-align: right;\">\n",
       "      <th></th>\n",
       "      <th>age</th>\n",
       "      <th>education_degree</th>\n",
       "      <th>capital_gain</th>\n",
       "      <th>capital_loss</th>\n",
       "      <th>hours_per_week</th>\n",
       "    </tr>\n",
       "  </thead>\n",
       "  <tbody>\n",
       "    <tr>\n",
       "      <th>count</th>\n",
       "      <td>32561.000000</td>\n",
       "      <td>32561.000000</td>\n",
       "      <td>32561.000000</td>\n",
       "      <td>32561.000000</td>\n",
       "      <td>32561.000000</td>\n",
       "    </tr>\n",
       "    <tr>\n",
       "      <th>mean</th>\n",
       "      <td>38.581647</td>\n",
       "      <td>10.080679</td>\n",
       "      <td>1077.648844</td>\n",
       "      <td>87.303830</td>\n",
       "      <td>40.437456</td>\n",
       "    </tr>\n",
       "    <tr>\n",
       "      <th>std</th>\n",
       "      <td>13.640433</td>\n",
       "      <td>2.572720</td>\n",
       "      <td>7385.292085</td>\n",
       "      <td>402.960219</td>\n",
       "      <td>12.347429</td>\n",
       "    </tr>\n",
       "    <tr>\n",
       "      <th>min</th>\n",
       "      <td>17.000000</td>\n",
       "      <td>1.000000</td>\n",
       "      <td>0.000000</td>\n",
       "      <td>0.000000</td>\n",
       "      <td>1.000000</td>\n",
       "    </tr>\n",
       "    <tr>\n",
       "      <th>25%</th>\n",
       "      <td>28.000000</td>\n",
       "      <td>9.000000</td>\n",
       "      <td>0.000000</td>\n",
       "      <td>0.000000</td>\n",
       "      <td>40.000000</td>\n",
       "    </tr>\n",
       "    <tr>\n",
       "      <th>50%</th>\n",
       "      <td>37.000000</td>\n",
       "      <td>10.000000</td>\n",
       "      <td>0.000000</td>\n",
       "      <td>0.000000</td>\n",
       "      <td>40.000000</td>\n",
       "    </tr>\n",
       "    <tr>\n",
       "      <th>75%</th>\n",
       "      <td>48.000000</td>\n",
       "      <td>12.000000</td>\n",
       "      <td>0.000000</td>\n",
       "      <td>0.000000</td>\n",
       "      <td>45.000000</td>\n",
       "    </tr>\n",
       "    <tr>\n",
       "      <th>max</th>\n",
       "      <td>90.000000</td>\n",
       "      <td>16.000000</td>\n",
       "      <td>99999.000000</td>\n",
       "      <td>4356.000000</td>\n",
       "      <td>99.000000</td>\n",
       "    </tr>\n",
       "  </tbody>\n",
       "</table>\n",
       "</div>"
      ],
      "text/plain": [
       "                age  education_degree  capital_gain  capital_loss  \\\n",
       "count  32561.000000      32561.000000  32561.000000  32561.000000   \n",
       "mean      38.581647         10.080679   1077.648844     87.303830   \n",
       "std       13.640433          2.572720   7385.292085    402.960219   \n",
       "min       17.000000          1.000000      0.000000      0.000000   \n",
       "25%       28.000000          9.000000      0.000000      0.000000   \n",
       "50%       37.000000         10.000000      0.000000      0.000000   \n",
       "75%       48.000000         12.000000      0.000000      0.000000   \n",
       "max       90.000000         16.000000  99999.000000   4356.000000   \n",
       "\n",
       "       hours_per_week  \n",
       "count    32561.000000  \n",
       "mean        40.437456  \n",
       "std         12.347429  \n",
       "min          1.000000  \n",
       "25%         40.000000  \n",
       "50%         40.000000  \n",
       "75%         45.000000  \n",
       "max         99.000000  "
      ]
     },
     "execution_count": 4,
     "metadata": {},
     "output_type": "execute_result"
    }
   ],
   "source": [
    "df.describe() # only describe the continuous variables"
   ]
  },
  {
   "cell_type": "markdown",
   "metadata": {},
   "source": [
    "### Count the NaN values"
   ]
  },
  {
   "cell_type": "code",
   "execution_count": 5,
   "metadata": {},
   "outputs": [
    {
     "data": {
      "text/plain": [
       "age                    0\n",
       "work_class          1836\n",
       "education              0\n",
       "education_degree       0\n",
       "marital_status         0\n",
       "job                 1843\n",
       "relationship           0\n",
       "race                   0\n",
       "sex                    0\n",
       "capital_gain           0\n",
       "capital_loss           0\n",
       "hours_per_week         0\n",
       "birthplace           583\n",
       "income                 0\n",
       "dtype: int64"
      ]
     },
     "execution_count": 5,
     "metadata": {},
     "output_type": "execute_result"
    }
   ],
   "source": [
    "df.isnull().sum()  ### before"
   ]
  },
  {
   "cell_type": "markdown",
   "metadata": {},
   "source": [
    "### Remove NaN values due to small proportion to the whole dataset"
   ]
  },
  {
   "cell_type": "code",
   "execution_count": 6,
   "metadata": {},
   "outputs": [],
   "source": [
    "df = df.dropna()"
   ]
  },
  {
   "cell_type": "code",
   "execution_count": 7,
   "metadata": {},
   "outputs": [
    {
     "data": {
      "text/plain": [
       "age                 0\n",
       "work_class          0\n",
       "education           0\n",
       "education_degree    0\n",
       "marital_status      0\n",
       "job                 0\n",
       "relationship        0\n",
       "race                0\n",
       "sex                 0\n",
       "capital_gain        0\n",
       "capital_loss        0\n",
       "hours_per_week      0\n",
       "birthplace          0\n",
       "income              0\n",
       "dtype: int64"
      ]
     },
     "execution_count": 7,
     "metadata": {},
     "output_type": "execute_result"
    }
   ],
   "source": [
    "df.isnull().sum()  ### after"
   ]
  },
  {
   "cell_type": "markdown",
   "metadata": {},
   "source": [
    "### Pick out categorical and continuous variables"
   ]
  },
  {
   "cell_type": "code",
   "execution_count": 8,
   "metadata": {},
   "outputs": [
    {
     "name": "stdout",
     "output_type": "stream",
     "text": [
      "<class 'pandas.core.frame.DataFrame'>\n",
      "Int64Index: 30162 entries, 1 to 32560\n",
      "Data columns (total 14 columns):\n",
      "age                 30162 non-null int64\n",
      "work_class          30162 non-null object\n",
      "education           30162 non-null object\n",
      "education_degree    30162 non-null int64\n",
      "marital_status      30162 non-null object\n",
      "job                 30162 non-null object\n",
      "relationship        30162 non-null object\n",
      "race                30162 non-null object\n",
      "sex                 30162 non-null object\n",
      "capital_gain        30162 non-null int64\n",
      "capital_loss        30162 non-null int64\n",
      "hours_per_week      30162 non-null int64\n",
      "birthplace          30162 non-null object\n",
      "income              30162 non-null object\n",
      "dtypes: int64(5), object(9)\n",
      "memory usage: 3.5+ MB\n"
     ]
    }
   ],
   "source": [
    "df.info()"
   ]
  },
  {
   "cell_type": "markdown",
   "metadata": {},
   "source": [
    "### Observe categorical attributes"
   ]
  },
  {
   "cell_type": "code",
   "execution_count": 9,
   "metadata": {},
   "outputs": [
    {
     "name": "stdout",
     "output_type": "stream",
     "text": [
      "work_class: ['Private' 'State-gov' 'Federal-gov' 'Self-emp-not-inc' 'Self-emp-inc'\n",
      " 'Local-gov' 'Without-pay']\n",
      "\n",
      "education: ['HS-grad' '7th-8th' 'Some-college' '10th' 'Doctorate' 'Prof-school'\n",
      " 'Bachelors' 'Masters' '11th' 'Assoc-voc' '1st-4th' '5th-6th' 'Assoc-acdm'\n",
      " '12th' '9th' 'Preschool']\n",
      "\n",
      "marital_status: ['Widowed' 'Divorced' 'Separated' 'Never-married' 'Married-civ-spouse'\n",
      " 'Married-spouse-absent' 'Married-AF-spouse']\n",
      "\n",
      "job: ['Exec-managerial' 'Machine-op-inspct' 'Prof-specialty' 'Other-service'\n",
      " 'Adm-clerical' 'Transport-moving' 'Sales' 'Craft-repair'\n",
      " 'Farming-fishing' 'Tech-support' 'Protective-serv' 'Handlers-cleaners'\n",
      " 'Armed-Forces' 'Priv-house-serv']\n",
      "\n",
      "relationship: ['Not-in-family' 'Unmarried' 'Own-child' 'Other-relative' 'Husband' 'Wife']\n",
      "\n",
      "race: ['White' 'Black' 'Asian-Pac-Islander' 'Other' 'Amer-Indian-Eskimo']\n",
      "\n",
      "sex: ['Female' 'Male']\n",
      "\n",
      "birthplace: ['United-States' 'Mexico' 'Greece' 'Vietnam' 'China' 'Taiwan' 'India'\n",
      " 'Philippines' 'Trinadad&Tobago' 'Canada' 'South' 'Holand-Netherlands'\n",
      " 'Puerto-Rico' 'Poland' 'Iran' 'England' 'Germany' 'Italy' 'Japan' 'Hong'\n",
      " 'Honduras' 'Cuba' 'Ireland' 'Cambodia' 'Peru' 'Nicaragua'\n",
      " 'Dominican-Republic' 'Haiti' 'Hungary' 'Columbia' 'Guatemala'\n",
      " 'El-Salvador' 'Jamaica' 'Ecuador' 'France' 'Yugoslavia' 'Portugal' 'Laos'\n",
      " 'Thailand' 'Outlying-US(Guam-USVI-etc)' 'Scotland']\n",
      "\n",
      "income: ['low' 'high']\n",
      "\n"
     ]
    }
   ],
   "source": [
    "for col in df.select_dtypes([np.object]).columns:\n",
    "    print('{}: {}\\n'.format(col, df[col].unique()))"
   ]
  },
  {
   "cell_type": "markdown",
   "metadata": {},
   "source": [
    "### Merge values of similar semantics"
   ]
  },
  {
   "cell_type": "code",
   "execution_count": 10,
   "metadata": {},
   "outputs": [],
   "source": [
    "\n",
    "df.education.replace({\n",
    "    'Preschool': 'dropout',\n",
    "    '10th': 'dropout',\n",
    "    '11th': 'dropout',\n",
    "    '12th': 'dropout',\n",
    "    '1st-4th': 'dropout',\n",
    "    '5th-6th': 'dropout',\n",
    "    '7th-8th': 'dropout',\n",
    "    '9th': 'dropout',\n",
    "    'HS-Grad': 'HighGrad',\n",
    "    'HS-grad': 'HighGrad',\n",
    "    'Some-colloge': 'CommunityCollege',\n",
    "    'Assoc-acdm': 'CommunityCollege',\n",
    "    'Assoc-voc': 'CommunityCollege',\n",
    "    'Prof-school': 'Masters',\n",
    "}, inplace=True)"
   ]
  },
  {
   "cell_type": "markdown",
   "metadata": {},
   "source": [
    "## 3. Classification Models"
   ]
  },
  {
   "cell_type": "code",
   "execution_count": 11,
   "metadata": {},
   "outputs": [],
   "source": [
    "from sklearn.model_selection import train_test_split\n",
    "from sklearn import metrics\n",
    "\n",
    "\n",
    "# tentatively take 3 numerical attributes for convenience\n",
    "X = df[['education_degree', 'age', 'hours_per_week']].values\n",
    "Y = df[['income']].values\n",
    "\n",
    "# train, test split\n",
    "X_train, X_test, Y_train, Y_test = train_test_split(X, Y, test_size=0.3, random_state=88, stratify=Y)"
   ]
  },
  {
   "cell_type": "markdown",
   "metadata": {},
   "source": [
    "### KNN"
   ]
  },
  {
   "cell_type": "code",
   "execution_count": 12,
   "metadata": {},
   "outputs": [
    {
     "name": "stdout",
     "output_type": "stream",
     "text": [
      "The accuracy of the KNN is 0.7892584816001769\n"
     ]
    }
   ],
   "source": [
    "## Example: Use KNN to predict income\n",
    "from sklearn.neighbors import KNeighborsClassifier\n",
    "\n",
    "knn = KNeighborsClassifier(n_neighbors=50)\n",
    "\n",
    "# change the shape of Y_train to (n_samples, ) using `.ravel()`\n",
    "knn.fit(X_train, Y_train.ravel())\n",
    "\n",
    "knn_pred = knn.predict(X_test)\n",
    "\n",
    "print('The accuracy of the KNN is', metrics.accuracy_score(knn_pred, Y_test))"
   ]
  },
  {
   "cell_type": "markdown",
   "metadata": {},
   "source": [
    "### Hyper-parameter tuning with `GridSearchCV()`"
   ]
  },
  {
   "cell_type": "code",
   "execution_count": 13,
   "metadata": {
    "scrolled": false
   },
   "outputs": [
    {
     "name": "stdout",
     "output_type": "stream",
     "text": [
      "{'n_neighbors': 66}\n",
      "0.7899872116705348\n"
     ]
    }
   ],
   "source": [
    "from sklearn.model_selection import GridSearchCV\n",
    "\n",
    "param_grid = {'n_neighbors': np.arange(30, 70)}\n",
    "\n",
    "knn = KNeighborsClassifier()\n",
    "knn_cv = GridSearchCV(knn, param_grid, cv=5)\n",
    "\n",
    "# change the shape of Y_train to (n_samples, ) using `.ravel()`\n",
    "knn_cv.fit(X_train, Y_train.ravel())\n",
    "\n",
    "print(knn_cv.best_params_)\n",
    "print(knn_cv.best_score_)"
   ]
  },
  {
   "cell_type": "markdown",
   "metadata": {},
   "source": [
    "### Your Tasks\n",
    "\n",
    "As far as you can see, we have built a KNN classification model and select the best hyper-parameters with `GridSearchCV()`. In this task, you are asked to build your own models using `scikit-learn` APIs.\n",
    "\n",
    "**Question 1 [10pts]**. Build a `Logistic Regression` model on training data and calculate accuracy over testing data.\n",
    "\n",
    "**Question 2 [10pts]**. Build a `Decision Tree` model on training data and calculate accuracy over testing data. \n",
    "\n",
    "**Question 3 [20pts]**. Use graphviz to visualize the decision tree of Question 2, and use a proper tool to visualize the decision boundary of the decision tree.\n",
    "\n",
    "**Question 4 [10pts]**. Build a `Random Forest` model with your customized parameters on training data and calculate accuracy over testing data.\n",
    "\n",
    "**Question 5 [20pts]**. For `Random Forest`, use `GridSearchCV()` to find the **optimal** hyper-parameter combination over: \n",
    "    - `n_estimator`: the number of trees in the forest\n",
    "    - `max_depth`: the maximum depth of the tree\n",
    "    - `max_leaf_nodes`: grow trees with ``max_leaf_nodes`` in best-first fashion.\n",
    "    \n",
    "   You should specify your own sets of values for these hyper-parameters. What's more, you are required to print the importance of each features of the dataset.\n",
    "   \n",
    "   (*tip: using the `feature_importances_` attributes of the `RandomForestClassifier()` as we have learned in class*)\n",
    "\n",
    "**Question 6 [10pts]**. Build a `AdaBoost` model on training data and calculate accuracy over testing data."
   ]
  },
  {
   "cell_type": "code",
   "execution_count": 14,
   "metadata": {},
   "outputs": [
    {
     "name": "stderr",
     "output_type": "stream",
     "text": [
      "d:\\软件\\python\\lib\\site-packages\\sklearn\\linear_model\\logistic.py:432: FutureWarning: Default solver will be changed to 'lbfgs' in 0.22. Specify a solver to silence this warning.\n",
      "  FutureWarning)\n"
     ]
    },
    {
     "name": "stdout",
     "output_type": "stream",
     "text": [
      "Logistic Regression model's training set score:0.782267\n",
      "Logistic Regression model's test set score:0.787490\n"
     ]
    }
   ],
   "source": [
    "# Question 1: Build a `Logistic Regression` model on training data and calculate accuracy over testing data.\n",
    "from sklearn.linear_model import LogisticRegression\n",
    "logreg=LogisticRegression().fit(X_train, Y_train.ravel())\n",
    "print(\"Logistic Regression model's training set score:{:.6f}\".format(logreg.score(X_train,Y_train.ravel())))\n",
    "print(\"Logistic Regression model's test set score:{:.6f}\".format(logreg.score(X_test,Y_test.ravel())))"
   ]
  },
  {
   "cell_type": "code",
   "execution_count": 15,
   "metadata": {},
   "outputs": [
    {
     "name": "stdout",
     "output_type": "stream",
     "text": [
      "Decision Tree's training set score:0.843793\n",
      "Decision Tree's test set score:0.764615\n"
     ]
    }
   ],
   "source": [
    "# Question 2: Build a `Decision Tree` model on training data and calculate accuracy over testing data.\n",
    "from sklearn import tree\n",
    "from sklearn.tree import DecisionTreeClassifier\n",
    "dec_tree=DecisionTreeClassifier(random_state=2016010215)\n",
    "dec_tree.fit(X_train, Y_train.ravel())\n",
    "print(\"Decision Tree's training set score:{:.6f}\".format(dec_tree.score(X_train,Y_train.ravel())))\n",
    "print(\"Decision Tree's test set score:{:.6f}\".format(dec_tree.score(X_test,Y_test.ravel())))"
   ]
  },
  {
   "cell_type": "code",
   "execution_count": 58,
   "metadata": {},
   "outputs": [
    {
     "data": {
      "image/png": "[encoded data removed]",
      "text/plain": [
       "<Figure size 432x288 with 3 Axes>"
      ]
     },
     "metadata": {
      "needs_background": "light"
     },
     "output_type": "display_data"
    }
   ],
   "source": [
    "# Question 3: Use graphviz to visualize the decision tree of Question 2, and use a proper tool to visualize the decision boundary of the decision tree.\n",
    "import graphviz\n",
    "import pydotplus\n",
    "dot_data=tree.export_graphviz(dec_tree,out_file=None,feature_names=['education_degree','age','hours_per_week'],class_names=['high','low'],filled=True,rounded=True,special_characters=True)\n",
    "graph=graphviz.Source(dot_data)\n",
    "graph.render(\"tree\")\n",
    "#此处在根目录中生成tree.pdf文件，我运行生成的文件附在压缩包中\n",
    "\n",
    "# Parameters\n",
    "n_classes = 2\n",
    "plot_colors = \"br\"\n",
    "plot_step = 0.02\n",
    "feature_names=['education_degree', 'age', 'hours_per_week']\n",
    "target_names=['low','high']\n",
    "for pairidx, pair in enumerate([[0, 1], [0, 2], [1, 2]]):\n",
    "    X = X_test[:, pair]\n",
    "    Y = Y_test.flatten()\n",
    "    for index, value in enumerate(Y):\n",
    "        if Y[index] == 'low' : Y[index]=0\n",
    "        else : Y[index] = 1\n",
    "    Y = Y.astype(float)\n",
    "            \n",
    "    # Shuffle\n",
    "    idx = np.arange(X.shape[0])\n",
    "    np.random.seed(10)\n",
    "    np.random.shuffle(idx)\n",
    "    X = X[idx]\n",
    "    Y = Y[idx]\n",
    "    \n",
    "    # Standardize\n",
    "    mean = X.mean(axis=0)\n",
    "    std = X.std(axis=0)\n",
    "    X = (X - mean) / std\n",
    "    \n",
    "    clf = DecisionTreeClassifier().fit(X, Y)\n",
    "\n",
    "    # Plot the decision boundary\n",
    "    plt.subplot(1, 3, pairidx + 1)\n",
    "    x_min, x_max = X[:, 0].min() - 1, X[:, 0].max() + 1\n",
    "    y_min, y_max = X[:, 1].min() - 1, X[:, 1].max() + 1\n",
    "    xx, yy = np.meshgrid(np.arange(x_min, x_max, plot_step),\n",
    "                         np.arange(y_min, y_max, plot_step))\n",
    "    Z = clf.predict(np.c_[xx.ravel(), yy.ravel()])\n",
    "    Z = Z.reshape(xx.shape)\n",
    "    cs = plt.contourf(xx, yy, Z, cmap=plt.cm.Paired)\n",
    "\n",
    "    plt.xlabel(feature_names[pair[0]])\n",
    "    plt.ylabel(feature_names[pair[1]])\n",
    "    plt.axis(\"tight\")\n",
    "    # Plot the training points\n",
    "    for i, color in zip(range(n_classes), plot_colors):\n",
    "        idx = np.where(Y == i)\n",
    "        plt.scatter(X[idx, 0], X[idx, 1], c=color, label=target_names[i],linewidths=0.01,cmap=plt.cm.Paired)\n",
    "\n",
    "    plt.axis(\"tight\")\n",
    "\n",
    "plt.suptitle(\"Decision surface of a decision tree using paired features\")\n",
    "plt.legend()\n",
    "plt.show()\n"
   ]
  },
  {
   "cell_type": "code",
   "execution_count": 18,
   "metadata": {},
   "outputs": [
    {
     "name": "stdout",
     "output_type": "stream",
     "text": [
      "Random Forest's training set score:0.795908\n",
      "Random Forest's test set score:0.796442\n"
     ]
    }
   ],
   "source": [
    "# Question 4: Build a `Random Forest` model with your customized parameters on training data and calculate accuracy over testing data.\n",
    "from sklearn.ensemble import RandomForestClassifier\n",
    "clf=RandomForestClassifier(n_estimators=200,criterion=\"gini\",max_depth=4,random_state=2016010215,max_features=3)\n",
    "clf.fit(X_train, Y_train.ravel())\n",
    "print(\"Random Forest's training set score:{:.6f}\". format(clf.score(X_train,Y_train.ravel())))\n",
    "print(\"Random Forest's test set score:{:.6f}\". format(clf.score(X_test,Y_test.ravel())))"
   ]
  },
  {
   "cell_type": "code",
   "execution_count": 19,
   "metadata": {},
   "outputs": [
    {
     "name": "stdout",
     "output_type": "stream",
     "text": [
      "{'bootstrap': True, 'criterion': 'entropy', 'max_depth': 20, 'max_features': 1, 'n_estimators': 300}\n",
      "Accuracy on training set:0.843793\n",
      "Accuracy on test set:0.776218\n"
     ]
    },
    {
     "data": {
      "image/png": "[encoded data removed]",
      "text/plain": [
       "<Figure size 432x288 with 1 Axes>"
      ]
     },
     "metadata": {
      "needs_background": "light"
     },
     "output_type": "display_data"
    }
   ],
   "source": [
    "# Question 5: Hyper-parameter search over Random Forest and print feature importance list.\n",
    "from sklearn.model_selection import GridSearchCV\n",
    "param_grid = { \"n_estimators\"      : [100, 300],\n",
    "           \"criterion\"         : [\"gini\", \"entropy\"],\n",
    "           \"max_features\"      : [1, 3],\n",
    "           \"max_depth\"         : [1, 20],\n",
    "           \"bootstrap\": [True, False]}\n",
    "grid_search = GridSearchCV(clf, param_grid, n_jobs=-1, cv=2)\n",
    "grid_search.fit(X_train,Y_train.ravel())\n",
    "print (grid_search.best_params_)\n",
    "# 根据调优出的参数对clf重新赋参\n",
    "clf=RandomForestClassifier(n_estimators=300,criterion=\"gini\",max_depth=20,random_state=2016010215,max_features=1)\n",
    "clf.fit(X_train, Y_train.ravel())\n",
    "print(\"Accuracy on training set:{:.6f}\". format(clf.score(X_train,Y_train.ravel())))\n",
    "print(\"Accuracy on test set:{:.6f}\". format(clf.score(X_test,Y_test.ravel())))\n",
    "# 画出特征重要性柱形图\n",
    "def plot_feature_importances(model):\n",
    "    n_features=3\n",
    "    plt.barh(range(n_features), model.feature_importances_, align='center')\n",
    "    plt.yticks(np.arange(n_features), ['education_degree','age','hours_per_week'])\n",
    "    plt.xlabel(\"Feature importance\")\n",
    "    plt.ylabel(\"Feature\")\n",
    "plot_feature_importances(clf)"
   ]
  },
  {
   "cell_type": "code",
   "execution_count": 20,
   "metadata": {},
   "outputs": [
    {
     "name": "stdout",
     "output_type": "stream",
     "text": [
      "AdaBoost's training set score:0.794345\n",
      "AdaBoost's test set score:0.796994\n"
     ]
    }
   ],
   "source": [
    "# Question 6: Build a `AdaBoost` model on training data and calculate accuracy over testing data.\n",
    "from sklearn.ensemble import AdaBoostClassifier\n",
    "abclf=AdaBoostClassifier(n_estimators=300,learning_rate=1.0,random_state=2016010215)\n",
    "abclf.fit(X_train, Y_train.ravel())\n",
    "print(\"AdaBoost's training set score:{:.6f}\". format(abclf.score(X_train,Y_train.ravel())))\n",
    "print(\"AdaBoost's test set score:{:.6f}\". format(abclf.score(X_test,Y_test.ravel())))"
   ]
  },
  {
   "cell_type": "markdown",
   "metadata": {},
   "source": [
    "## 4. Feature Engineering\n",
    "\n",
    "Before you start this part, we recommend you to read this [article](https://www.cnblogs.com/jasonfreak/p/5448385.html)"
   ]
  },
  {
   "cell_type": "markdown",
   "metadata": {},
   "source": [
    "### Using `LabelEncoder()`: map categorical features to [0, C)"
   ]
  },
  {
   "cell_type": "code",
   "execution_count": 21,
   "metadata": {},
   "outputs": [
    {
     "name": "stderr",
     "output_type": "stream",
     "text": [
      "d:\\软件\\python\\lib\\site-packages\\sklearn\\linear_model\\logistic.py:432: FutureWarning: Default solver will be changed to 'lbfgs' in 0.22. Specify a solver to silence this warning.\n",
      "  FutureWarning)\n"
     ]
    },
    {
     "name": "stdout",
     "output_type": "stream",
     "text": [
      "Logistic Regression model's training set score:0.818358\n",
      "Logistic Regression model's test set score:0.819870\n",
      "Decision Tree's training set score:0.978118\n",
      "Decision Tree's test set score:0.812134\n",
      "Random Forest's training set score:0.841993\n",
      "Random Forest's test set score:0.839430\n",
      "AdaBoost's training set score:0.865865\n",
      "AdaBoost's test set score:0.864736\n"
     ]
    }
   ],
   "source": [
    "\n",
    "from sklearn.preprocessing import LabelEncoder\n",
    "encoded_df = df.apply(LabelEncoder().fit_transform)\n",
    "eX = encoded_df[['work_class','education','marital_status','job','relationship','race','sex','capital_gain','capital_loss','education_degree','age', 'hours_per_week','birthplace']].values\n",
    "eY = encoded_df[['income']].values\n",
    "eX_train, eX_test, eY_train, eY_test = train_test_split(eX, eY, test_size=0.3, random_state=88, stratify=eY)\n",
    "\n",
    "# Logistic Regression\n",
    "from sklearn.linear_model import LogisticRegression\n",
    "elogreg=LogisticRegression().fit(eX_train, eY_train.ravel())\n",
    "print(\"Logistic Regression model's training set score:{:.6f}\".format(elogreg.score(eX_train,eY_train.ravel())))\n",
    "print(\"Logistic Regression model's test set score:{:.6f}\".format(elogreg.score(eX_test,eY_test.ravel())))\n",
    "\n",
    "#Decision Tree\n",
    "from sklearn import tree\n",
    "from sklearn.tree import DecisionTreeClassifier\n",
    "edec_tree=DecisionTreeClassifier(random_state=2016010215)\n",
    "edec_tree.fit(eX_train, eY_train.ravel())\n",
    "print(\"Decision Tree's training set score:{:.6f}\".format(edec_tree.score(eX_train,eY_train.ravel())))\n",
    "print(\"Decision Tree's test set score:{:.6f}\".format(edec_tree.score(eX_test,eY_test.ravel())))\n",
    "\n",
    "#Random Tree\n",
    "from sklearn.ensemble import RandomForestClassifier\n",
    "eclf=RandomForestClassifier(n_estimators=300,criterion=\"gini\",max_depth=4,random_state=2016010215,max_features=10)\n",
    "eclf.fit(eX_train, eY_train.ravel())\n",
    "print(\"Random Forest's training set score:{:.6f}\". format(eclf.score(eX_train,eY_train.ravel())))\n",
    "print(\"Random Forest's test set score:{:.6f}\". format(eclf.score(eX_test,eY_test.ravel())))\n",
    "\n",
    "#Adaboost\n",
    "from sklearn.ensemble import AdaBoostClassifier\n",
    "e_abclf=AdaBoostClassifier(n_estimators=300,learning_rate=1.0,random_state=2016010215)\n",
    "e_abclf.fit(eX_train, eY_train.ravel())\n",
    "print(\"AdaBoost's training set score:{:.6f}\". format(e_abclf.score(eX_train,eY_train.ravel())))\n",
    "print(\"AdaBoost's test set score:{:.6f}\". format(e_abclf.score(eX_test,eY_test.ravel())))"
   ]
  },
  {
   "cell_type": "markdown",
   "metadata": {},
   "source": [
    "### Using `pandas.get_dummies()`: map categorical features into one-hot encoding"
   ]
  },
  {
   "cell_type": "code",
   "execution_count": 22,
   "metadata": {},
   "outputs": [
    {
     "name": "stderr",
     "output_type": "stream",
     "text": [
      "d:\\软件\\python\\lib\\site-packages\\sklearn\\linear_model\\logistic.py:432: FutureWarning: Default solver will be changed to 'lbfgs' in 0.22. Specify a solver to silence this warning.\n",
      "  FutureWarning)\n"
     ]
    },
    {
     "name": "stdout",
     "output_type": "stream",
     "text": [
      "Logistic Regression model's training set score:0.847629\n",
      "Logistic Regression model's test set score:0.846723\n",
      "Decision Tree's training set score:0.978118\n",
      "Decision Tree's test set score:0.814676\n",
      "Random Forest's training set score:0.831526\n",
      "Random Forest's test set score:0.832799\n",
      "AdaBoost's training set score:0.865107\n",
      "AdaBoost's test set score:0.866947\n"
     ]
    }
   ],
   "source": [
    "cols = list(set(df.select_dtypes([np.object]).columns) - set(['income']))\n",
    "\n",
    "onehot_df = pd.get_dummies(df, columns=cols)\n",
    "onehot_df.head()\n",
    "oX = onehot_df.drop(['income'],axis=1)\n",
    "oY = onehot_df[['income']].values\n",
    "\n",
    "oX_train, oX_test, oY_train, oY_test = train_test_split(oX, oY, test_size=0.3, random_state=88, stratify=oY)\n",
    "\n",
    "# Logistic Regression\n",
    "from sklearn.linear_model import LogisticRegression\n",
    "ologreg=LogisticRegression().fit(oX_train, oY_train.ravel())\n",
    "print(\"Logistic Regression model's training set score:{:.6f}\".format(ologreg.score(oX_train,oY_train.ravel())))\n",
    "print(\"Logistic Regression model's test set score:{:.6f}\".format(ologreg.score(oX_test,oY_test.ravel())))\n",
    "\n",
    "#Decision Tree\n",
    "from sklearn import tree\n",
    "from sklearn.tree import DecisionTreeClassifier\n",
    "odec_tree=DecisionTreeClassifier(random_state=2016010215)\n",
    "odec_tree.fit(oX_train, oY_train.ravel())\n",
    "print(\"Decision Tree's training set score:{:.6f}\".format(odec_tree.score(oX_train,oY_train.ravel())))\n",
    "print(\"Decision Tree's test set score:{:.6f}\".format(odec_tree.score(oX_test,oY_test.ravel())))\n",
    "\n",
    "#Random Tree\n",
    "from sklearn.ensemble import RandomForestClassifier\n",
    "oclf=RandomForestClassifier(n_estimators=300,criterion=\"gini\",max_depth=4,random_state=2016010215,max_features=10)\n",
    "oclf.fit(oX_train, oY_train.ravel())\n",
    "print(\"Random Forest's training set score:{:.6f}\". format(oclf.score(oX_train,oY_train.ravel())))\n",
    "print(\"Random Forest's test set score:{:.6f}\". format(oclf.score(oX_test,oY_test.ravel())))\n",
    "\n",
    "#Adaboost\n",
    "from sklearn.ensemble import AdaBoostClassifier\n",
    "o_abclf=AdaBoostClassifier(n_estimators=300,learning_rate=1.0,random_state=2016010215)\n",
    "o_abclf.fit(oX_train, oY_train.ravel())\n",
    "print(\"AdaBoost's training set score:{:.6f}\". format(o_abclf.score(oX_train,oY_train.ravel())))\n",
    "print(\"AdaBoost's test set score:{:.6f}\". format(o_abclf.score(oX_test,oY_test.ravel())))"
   ]
  },
  {
   "cell_type": "markdown",
   "metadata": {},
   "source": [
    "The aforementioned machine learning models are built upon **3 distinct attributes** (`education_degree`, `age` and `hours_per_week`) with **10 more attributes unused**. You are required to utilize those unused columns using the feature engineering methods introduced above to address this issue.]\n",
    "\n",
    "**Question 7  [20pts]**. Compare the performance (accuracy) of different algorithms and different preprocessing methods on the dataset. Specifically, please fill the blanks in the table below:\n",
    "\n",
    "|         Alg.        | Original 3 columns | All columns with `LabelEncoder` | All columns with `OneHot` |\n",
    "|        :---:        |        :----:      |             :----:              |           :----:          |\n",
    "| Logistic Regression |    0.787490(0.782267)      |       0.819870(0.818358)        |       0.846723(0.847629)        |\n",
    "| Decision Tree      |     0.764615(0.843793)       |       0.812134(0.978118)        |       0.812908(0.978118)     |\n",
    "| Random Forest       |     0.794673(0.792924)       |        0.839430(0.841993)        |       0.831252(0.829773) |  \n",
    "| AdaBoost      |     0.796994(0.794345)       |            0.864736(0.865865)             |         0.866947(0.865107)          |"
   ]
  },
  {
   "cell_type": "code",
   "execution_count": 23,
   "metadata": {},
   "outputs": [],
   "source": [
    "# Question 7: Compare the performance (accuracy) of different algorithms and different preprocessing methods on the dataset\n",
    "## 上表中表内未加括号为测试数据的准确度，加括号为训练数据的准确度\n",
    "## 从表中数据对比可看出：应用LabelEncoder和OneHot对数据中十个特征变量进行处理并应用该十三个特征进行模型训练相比于仅应用三个特征进行模型训练\n",
    "## 均可提高模型的准确度（无论是测试数据集还是训练数据集）\n",
    "## 其中对于线性回归模型，OneHot对于模型准确度的提升更为显著\n",
    "## 对于其余三个模型，二者对于模型准确度的提升相差无几\n",
    "## 其中值得注意的是，对于决策树模型应用十三个模型进行模拟后可以极大地提升模型在训练数据集上的准确度（至0.978118）\n",
    "## 但决策树模型在测试数据集上地准确度在四个模型中最低"
   ]
  },
  {
   "cell_type": "code",
   "execution_count": null,
   "metadata": {},
   "outputs": [],
   "source": []
  }
 ],
 "metadata": {
  "kernelspec": {
   "display_name": "Python 3",
   "language": "python",
   "name": "python3"
  },
  "language_info": {
   "codemirror_mode": {
    "name": "ipython",
    "version": 3
   },
   "file_extension": ".py",
   "mimetype": "text/x-python",
   "name": "python",
   "nbconvert_exporter": "python",
   "pygments_lexer": "ipython3",
   "version": "3.7.0"
  },
  "toc": {
   "base_numbering": 1,
   "nav_menu": {
    "height": "228px",
    "width": "316px"
   },
   "number_sections": true,
   "sideBar": true,
   "skip_h1_title": false,
   "title_cell": "Table of Contents",
   "title_sidebar": "Contents",
   "toc_cell": false,
   "toc_position": {},
   "toc_section_display": true,
   "toc_window_display": false
  }
 },
 "nbformat": 4,
 "nbformat_minor": 2
}
