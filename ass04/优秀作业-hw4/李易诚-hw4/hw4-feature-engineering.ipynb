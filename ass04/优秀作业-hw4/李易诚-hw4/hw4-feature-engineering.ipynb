{
 "cells": [
  {
   "cell_type": "markdown",
   "metadata": {},
   "source": [
    "## 0. Basic knowledge of feature engineering"
   ]
  },
  {
   "cell_type": "code",
   "execution_count": 1,
   "metadata": {
    "pycharm": {
     "is_executing": false
    }
   },
   "outputs": [],
   "source": [
    "## Question 1: A good feature should be representative and discriminative."
   ]
  },
  {
   "cell_type": "code",
   "execution_count": 2,
   "metadata": {
    "pycharm": {
     "is_executing": false
    }
   },
   "outputs": [
    {
     "data": {
      "text/plain": [
       "'\\nFirstly, an image is equivalently a high-dimensional tensor. Extracting low-dimensional feature vectors from \\na high-dimensional tensor is very hard.   \\nSecondly, there are many factors that can interfere with the feature extraction, such as background clutter,\\ndeformation, flipping, viewpoint variation, intra-class variation, illumination conditions, occlusion and scale \\nvariation.\\n'"
      ]
     },
     "execution_count": 2,
     "metadata": {},
     "output_type": "execute_result"
    }
   ],
   "source": [
    "## Question 2: Why is image feature extraction hard? \n",
    "\"\"\"\n",
    "Firstly, an image is equivalently a high-dimensional tensor. Extracting low-dimensional feature vectors from \n",
    "a high-dimensional tensor is very hard.   \n",
    "Secondly, there are many factors that can interfere with the feature extraction, such as background clutter,\n",
    "deformation, flipping, viewpoint variation, intra-class variation, illumination conditions, occlusion and scale \n",
    "variation.\n",
    "\"\"\""
   ]
  },
  {
   "cell_type": "code",
   "execution_count": 3,
   "metadata": {
    "pycharm": {
     "is_executing": false
    }
   },
   "outputs": [
    {
     "data": {
      "text/plain": [
       "\"        \\nI think 'Maximum entropy' is better for active learning. \\nFirstly, this algorithm takes all the possible conditions \\ninto account, so the uncertainty that it gives describes the global condition, not the local condition. Therefore,  \\nit is more comprehensive and more robust. Secondly, the local condition of uncertainty is implicitly included in this \\nalgorithm. A point with high uncertainty measured in 'Smallest margin' algorithm will also have high uncertainty in \\n'Maximum entropy' algorithm. On contrary, a point with high uncertainty measured in 'Maximum entropy' algorithm may not \\nhave high uncertainty in 'Smallest margin' algorithm. If the sample set is not good enough, some important cases can be \\nignored if we use the 'Smallest margin' algorithm. Thirdly, both algorithms have essentially the same time complexity \\nalthough the expression of the former one seems more complex. Therefore, I think 'Maximum entropy' is better.\\n\\n\""
      ]
     },
     "execution_count": 3,
     "metadata": {},
     "output_type": "execute_result"
    }
   ],
   "source": [
    "## Question 3: As we have learned in class, both 'Maximum entropy' and 'Smallest margin' can be used to\n",
    "##             measure uncertainty in active learning. Please explain which one is better for active learning and why?\n",
    "##             Note that: this is an open question and you can answer in Chinese as well.\n",
    "\"\"\"        \n",
    "I think 'Maximum entropy' is better for active learning. \n",
    "Firstly, this algorithm takes all the possible conditions \n",
    "into account, so the uncertainty that it gives describes the global condition, not the local condition. Therefore,  \n",
    "it is more comprehensive and more robust. Secondly, the local condition of uncertainty is implicitly included in this \n",
    "algorithm. A point with high uncertainty measured in 'Smallest margin' algorithm will also have high uncertainty in \n",
    "'Maximum entropy' algorithm. On contrary, a point with high uncertainty measured in 'Maximum entropy' algorithm may not \n",
    "have high uncertainty in 'Smallest margin' algorithm. If the sample set is not good enough, some important cases can be \n",
    "ignored if we use the 'Smallest margin' algorithm. Thirdly, both algorithms have essentially the same time complexity \n",
    "although the expression of the former one seems more complex. Therefore, I think 'Maximum entropy' is better.\n",
    "\n",
    "\"\"\" "
   ]
  },
  {
   "cell_type": "markdown",
   "metadata": {},
   "source": [
    "## 1. Text feature engineering"
   ]
  },
  {
   "cell_type": "code",
   "execution_count": 4,
   "metadata": {
    "pycharm": {
     "is_executing": false
    }
   },
   "outputs": [],
   "source": [
    "## Given a corpus as:\n",
    "corpus = ['The goal of this lecture is to explain text processing.',\n",
    "          'The bag of words model is one such approach.',\n",
    "          'Text processing via bag of words.',\n",
    "          'Data science includes text processing']"
   ]
  },
  {
   "cell_type": "code",
   "execution_count": 5,
   "metadata": {
    "pycharm": {
     "is_executing": false
    }
   },
   "outputs": [
    {
     "name": "stdout",
     "output_type": "stream",
     "text": [
      "  (0, 15)\t1\n",
      "  (0, 4)\t1\n",
      "  (0, 9)\t1\n",
      "  (0, 16)\t1\n",
      "  (0, 7)\t1\n",
      "  (0, 6)\t1\n",
      "  (0, 17)\t1\n",
      "  (0, 3)\t1\n",
      "  (0, 14)\t1\n",
      "  (0, 11)\t1\n",
      "  (1, 15)\t1\n",
      "  (1, 9)\t1\n",
      "  (1, 6)\t1\n",
      "  (1, 1)\t1\n",
      "  (1, 19)\t1\n",
      "  (1, 8)\t1\n",
      "  (1, 10)\t1\n",
      "  (1, 13)\t1\n",
      "  (1, 0)\t1\n",
      "  (2, 9)\t1\n",
      "  (2, 14)\t1\n",
      "  (2, 11)\t1\n",
      "  (2, 1)\t1\n",
      "  (2, 19)\t1\n",
      "  (2, 18)\t1\n",
      "  (3, 14)\t1\n",
      "  (3, 11)\t1\n",
      "  (3, 2)\t1\n",
      "  (3, 12)\t1\n",
      "  (3, 5)\t1\n"
     ]
    }
   ],
   "source": [
    "# !pip3 install sklearn\n",
    "## Question 4: Use BOW to extract features of the given corpus. \n",
    "## \n",
    "## Your code here\n",
    "## \n",
    "from sklearn.feature_extraction.text import CountVectorizer\n",
    "vectorizer = CountVectorizer()\n",
    "X = vectorizer.fit_transform(corpus)\n",
    "print(X)"
   ]
  },
  {
   "cell_type": "code",
   "execution_count": 6,
   "metadata": {
    "pycharm": {
     "is_executing": false
    }
   },
   "outputs": [
    {
     "name": "stdout",
     "output_type": "stream",
     "text": [
      "  (0, 11)\t0.23360869991447142\n",
      "  (0, 14)\t0.23360869991447142\n",
      "  (0, 3)\t0.3659931706709981\n",
      "  (0, 17)\t0.3659931706709981\n",
      "  (0, 6)\t0.2885532196006135\n",
      "  (0, 7)\t0.3659931706709981\n",
      "  (0, 16)\t0.3659931706709981\n",
      "  (0, 9)\t0.23360869991447142\n",
      "  (0, 4)\t0.3659931706709981\n",
      "  (0, 15)\t0.2885532196006135\n",
      "  (1, 0)\t0.38086516913285073\n",
      "  (1, 13)\t0.38086516913285073\n",
      "  (1, 10)\t0.38086516913285073\n",
      "  (1, 8)\t0.38086516913285073\n",
      "  (1, 19)\t0.30027847400958324\n",
      "  (1, 1)\t0.30027847400958324\n",
      "  (1, 6)\t0.30027847400958324\n",
      "  (1, 9)\t0.24310130388692774\n",
      "  (1, 15)\t0.30027847400958324\n",
      "  (2, 18)\t0.5371830325370646\n",
      "  (2, 19)\t0.4235212730041086\n",
      "  (2, 1)\t0.4235212730041086\n",
      "  (2, 11)\t0.3428769712206024\n",
      "  (2, 14)\t0.3428769712206024\n",
      "  (2, 9)\t0.3428769712206024\n",
      "  (3, 5)\t0.5119917161748856\n",
      "  (3, 12)\t0.5119917161748856\n",
      "  (3, 2)\t0.5119917161748856\n",
      "  (3, 11)\t0.3267976803045626\n",
      "  (3, 14)\t0.3267976803045626\n"
     ]
    }
   ],
   "source": [
    "## Question 5: Use TFIDF to extract features of the given corpus. \n",
    "## \n",
    "## Your code here\n",
    "## \n",
    "from sklearn.feature_extraction.text import TfidfVectorizer\n",
    "vectorizer = TfidfVectorizer()\n",
    "X = vectorizer.fit_transform(corpus)\n",
    "print(X)"
   ]
  },
  {
   "cell_type": "code",
   "execution_count": 7,
   "metadata": {
    "pycharm": {
     "is_executing": false
    }
   },
   "outputs": [
    {
     "data": {
      "text/plain": [
       "array([[-0.00282444,  0.04010464, -0.04006686, -0.0359363 , -0.02909481,\n",
       "        -0.01563334,  0.0435893 , -0.02209093, -0.029308  ,  0.04068261]],\n",
       "      dtype=float32)"
      ]
     },
     "execution_count": 7,
     "metadata": {},
     "output_type": "execute_result"
    }
   ],
   "source": [
    "## Question 6: Use Word2Vec to extract features of the given corpus.\n",
    "# !pip3 install gensim\n",
    "from gensim.test.utils import common_texts\n",
    "from gensim.sklearn_api import W2VTransformer\n",
    "\n",
    "# Create a model to represent each word by a 10 dimensional vector\n",
    "model = W2VTransformer(size=10, min_count=1, seed=1)\n",
    "\n",
    "\n",
    "## The model trained on the common_texts\n",
    "# What is the vector representation of the word ‘graph’?\n",
    "# wordvecs = model.fit(common_texts).transform(['graph'])\n",
    "# print(wordvecs)\n",
    "# wordvecs\n",
    "##\n",
    "## You should extract the vector representation of the word 'text' by the model trained on the given corpus.\n",
    "## Note that: the formulation of the given corpus is different from that of common_texts,\n",
    "## you should transform the given corpus to the the formulation of common_texts first.\n",
    "##\n",
    "## Your code here\n",
    "##\n",
    "\n",
    "def sentenceToWordList(sentence: str):\n",
    "    words = sentence.split(' ')\n",
    "    words = [x.strip('.').lower() for x in words]\n",
    "    return words\n",
    "\n",
    "\n",
    "w2vCorpus = [sentenceToWordList(x) for x in corpus]\n",
    "model = model.fit(w2vCorpus)\n",
    "wordvecs = model.transform(['text'])\n",
    "wordvecs"
   ]
  },
  {
   "cell_type": "markdown",
   "metadata": {},
   "source": [
    "## 2. Time series feature engineering"
   ]
  },
  {
   "cell_type": "code",
   "execution_count": 16,
   "metadata": {
    "pycharm": {
     "is_executing": false
    }
   },
   "outputs": [],
   "source": [
    "## Question 7: Use decompose (model='additive') to extract time series features of the given time series\n",
    "from random import randrange\n",
    "import math\n",
    "from pandas import Series\n",
    "series = Series([20*math.sin(i/18*math.pi) + i + randrange(10) for i in range(1,360)])"
   ]
  },
  {
   "cell_type": "code",
   "execution_count": 17,
   "metadata": {
    "pycharm": {
     "is_executing": false
    }
   },
   "outputs": [
    {
     "data": {
      "image/png": "[encoded data removed]",
      "text/plain": [
       "<Figure size 432x288 with 4 Axes>"
      ]
     },
     "metadata": {
      "needs_background": "light"
     },
     "output_type": "display_data"
    }
   ],
   "source": [
    "from matplotlib import pyplot\n",
    "from statsmodels.tsa.seasonal import seasonal_decompose\n",
    "import matplotlib.pyplot as plt\n",
    "##\n",
    "## Your code here\n",
    "##\n",
    "result = seasonal_decompose(series, model='additive',freq=36)  # freq=36 to match the period \n",
    "result.plot()\n",
    "plt.show()"
   ]
  },
  {
   "cell_type": "code",
   "execution_count": 14,
   "metadata": {
    "pycharm": {
     "is_executing": false
    }
   },
   "outputs": [
    {
     "data": {
      "image/png": "[encoded data removed]",
      "text/plain": [
       "<Figure size 432x288 with 1 Axes>"
      ]
     },
     "metadata": {
      "needs_background": "light"
     },
     "output_type": "display_data"
    }
   ],
   "source": [
    "## Question 8: Use Discrete Fourier Transform (DFT) to extract time series features of the given time series\n",
    "import numpy as np\n",
    "series = Series([np.cos(2*math.pi*1/8*n+math.pi/8) for n in range(800)])\n",
    "## \n",
    "## Your code here\n",
    "## \n",
    "import numpy as np\n",
    "sp = np.fft.fft(series)\n",
    "freq = np.fft.fftfreq(series.shape[-1])\n",
    "plt.plot(freq, sp.real, freq, sp.imag)\n",
    "plt.show()\n"
   ]
  },
  {
   "cell_type": "markdown",
   "metadata": {},
   "source": [
    "Analysis:\n",
    "$$ f(n) = \\frac{1}{2}(\\cos\\frac{\\pi}{8}-i\\sin\\frac{\\pi}{8})e^{i(-\\frac{2\\pi}{8})n} + \\frac{1}{2}(\\cos\\frac{\\pi}{8}+i\\sin\\frac{\\pi}{8})e^{i\\frac{2\\pi}{8}n}$$\n",
    "Two frequencies: $-\\frac{1}{8}$ and $\\frac{1}{8}$\n",
    "\n",
    "Count of n: 800\n",
    "\n",
    "The two tall blue lines indicates the real part(corresponding to 'cos'), the y-values are both approximately equal to $800*\\frac{1}{2}\\cos\\frac{\\pi}{8}\\approx 370$. \n",
    "\n",
    "The two short vertical orange lines indicates the image part(corresponding to 'sin'), the y-values are opposite and there absolute values are approximately equal to $800*\\frac{1}{2}\\sin\\frac{\\pi}{8}\\approx 153$"
   ]
  },
  {
   "cell_type": "markdown",
   "metadata": {},
   "source": [
    "## 3. Image feature engineering"
   ]
  },
  {
   "cell_type": "code",
   "execution_count": 11,
   "metadata": {
    "pycharm": {
     "is_executing": false
    }
   },
   "outputs": [
    {
     "name": "stdout",
     "output_type": "stream",
     "text": [
      "The shape of the image:  (485, 729)\n",
      "The shape of feature description:  (418, 128)\n"
     ]
    }
   ],
   "source": [
    "## Use SIFT in opencv-python to extract image features on the given image 'morning.jpg'\n",
    "# !pip install opencv-python==3.4.2.16\n",
    "# !pip install opencv-contrib-python==3.4.2.16\n",
    "## Note that: NOT all versions of opencv-contrib-python includes SIFT in cv2.xfeatures2d, \n",
    "## but this specified version does\n",
    "import cv2\n",
    "import numpy as np\n",
    "name = 'dog.jpg'\n",
    "img = cv2.imread(name)\n",
    "gray_img= cv2.cvtColor(img,cv2.COLOR_BGR2GRAY)\n",
    "print(\"The shape of the image: \", gray_img.shape)\n",
    "siftDetector= cv2.xfeatures2d.SIFT_create()\n",
    "## Note that: SIFT was re-organized in opencv thus you should import it like this.\n",
    "\n",
    "## finds the keypoint in the images\n",
    "kp = siftDetector.detect(gray_img,None)\n",
    "## draws the small circles on the locations of keypoints\n",
    "cv2.drawKeypoints(gray_img,kp,img,flags=cv2.DRAW_MATCHES_FLAGS_DRAW_RICH_KEYPOINTS)\n",
    "cv2.imwrite('sift_keypoint_' + name, img) ## Save Example\n",
    "## directly find keypoints and descriptors in a single step \n",
    "kp, des = siftDetector.detectAndCompute(gray_img,None)\n",
    "print(\"The shape of feature description: \", des.shape)"
   ]
  },
  {
   "cell_type": "code",
   "execution_count": 12,
   "metadata": {
    "pycharm": {
     "is_executing": false
    }
   },
   "outputs": [],
   "source": [
    "## Question 9: Please rescale the given image 'dog.jpg' at a random ratio between 0.3 with 1.5.\n",
    "##          Note that: the width and height of the given image should be rescaled at a different ratio.\n",
    "##          Repeat this operation five times, then you will get five new images with different scale.\n",
    "##\n",
    "##          Please extract the SIFT features of these images respectively and use 'imwrite' to save them.\n",
    "##          An example of saving keypoints on the input image is shown as follow:\n",
    "##          cv2.drawKeypoints(gray_img,kp,img,flags=cv2.DRAW_MATCHES_FLAGS_DRAW_RICH_KEYPOINTS)\n",
    "##          cv2.imwrite('sift_keypoint_' + name, img)\n",
    "##\n",
    "## \n",
    "## Your code here\n",
    "## \n",
    "import cv2\n",
    "import random\n",
    "name = 'dog.jpg'\n",
    "src_img = cv2.imread(name)\n",
    "siftDetector = cv2.xfeatures2d.SIFT_create()\n",
    "for i in range(5):\n",
    "    s1 = random.uniform(0.3, 1.5)\n",
    "    s2 = random.uniform(0.3, 1.5)\n",
    "    nh = int(s1 * src_img.shape[0])\n",
    "    nw = int(s2 * src_img.shape[1])\n",
    "    img = cv2.resize(src_img, (nw, nh))\n",
    "    # randomly resize the image\n",
    "    gray_img = cv2.cvtColor(img, cv2.COLOR_BGR2GRAY)\n",
    "    kp = siftDetector.detect(gray_img, None)\n",
    "    cv2.drawKeypoints(gray_img, kp, img, flags=cv2.DRAW_MATCHES_FLAGS_DRAW_RICH_KEYPOINTS)\n",
    "    cv2.imwrite(f'sift_keypoint_scale_{i}_{name}', img)  \n",
    "    \n",
    "# Results of observation:\n",
    "# In general, most of the key points remain the same after scaling, but there are still a small amount of \n",
    "# key points that are different. The directions of vectors of most key points remain consistent after \n",
    "# scaling, but there are still some small differences.\n",
    "# The differences may be caused by pixel loses in the process of scaling."
   ]
  },
  {
   "cell_type": "code",
   "execution_count": 13,
   "metadata": {
    "pycharm": {
     "is_executing": false
    }
   },
   "outputs": [],
   "source": [
    "## Question 10: Please rotate the given image 'dog.jpg' 30, 60, 90, 120, 150, 180 degrees clockwise,\n",
    "##              then you will get six new images with different rotation angle.\n",
    "##              Please extract the SIFT features of these images respectively and use 'imwrite' to save them.\n",
    "##              An example of saving keypoints on the input image is shown as follow:\n",
    "##              cv2.drawKeypoints(gray_img,kp,img,flags=cv2.DRAW_MATCHES_FLAGS_DRAW_RICH_KEYPOINTS)\n",
    "##              cv2.imwrite('sift_keypoint_' + name, img)\n",
    "import cv2\n",
    "def getTransMatAndNewSize(angle, width, height):\n",
    "    \"\"\"\n",
    "    Gets the transformation matrix and new image size that fits the rotated image properly. \n",
    "    \"\"\"\n",
    "    alpha = math.radians(angle)\n",
    "    M = cv2.getRotationMatrix2D(center, angle, 1)\n",
    "    nw = int(width * abs(math.cos(alpha)) + height * abs(math.sin(alpha)))\n",
    "    nh = int(height * abs(math.cos(alpha)) + width * abs(math.sin(alpha)))\n",
    "    dx = nw / 2 - center[0]\n",
    "    dy = nh / 2 - center[1]\n",
    "    M[0, 2] += dx\n",
    "    M[1, 2] += dy\n",
    "    return M, (nw, nh)\n",
    "\n",
    "name = 'dog.jpg'\n",
    "src_img = cv2.imread(name)\n",
    "siftDetector = cv2.xfeatures2d.SIFT_create()\n",
    "width = src_img.shape[1]\n",
    "height = src_img.shape[0]\n",
    "center = (width / 2, height / 2)\n",
    "for i in range(6):\n",
    "    angle = -(i * 30 + 30) # clockwise\n",
    "    M, nSize = getTransMatAndNewSize(angle, width, height)\n",
    "    img = cv2.warpAffine(src_img, M, nSize, borderValue=(255, 255, 255))\n",
    "    gray_img = cv2.cvtColor(img, cv2.COLOR_BGR2GRAY)\n",
    "    kp = siftDetector.detect(gray_img, None)\n",
    "    cv2.drawKeypoints(gray_img, kp, img, flags=cv2.DRAW_MATCHES_FLAGS_DRAW_RICH_KEYPOINTS)\n",
    "    cv2.imwrite(f'sift_keypoint_rotate_{-angle}_{name}', img)\n",
    "# Results of observation:\n",
    "# Almost all key points remain the same after scaling, only several key points disappear.  \n",
    "# The directions of vectors of almost all key points remain consistent after rotation.\n",
    "# The differences may be caused by the differences of the margin sizes and pixel loses in rotation. \n",
    "\n"
   ]
  },
  {
   "cell_type": "code",
   "execution_count": null,
   "metadata": {
    "pycharm": {
     "is_executing": false
    }
   },
   "outputs": [],
   "source": []
  }
 ],
 "metadata": {
  "kernelspec": {
   "display_name": "Python 3",
   "language": "python",
   "name": "python3"
  },
  "language_info": {
   "codemirror_mode": {
    "name": "ipython",
    "version": 3
   },
   "file_extension": ".py",
   "mimetype": "text/x-python",
   "name": "python",
   "nbconvert_exporter": "python",
   "pygments_lexer": "ipython3",
   "version": "3.7.4"
  },
  "pycharm": {
   "stem_cell": {
    "cell_type": "raw",
    "metadata": {
     "collapsed": false
    },
    "source": []
   }
  }
 },
 "nbformat": 4,
 "nbformat_minor": 2
}
