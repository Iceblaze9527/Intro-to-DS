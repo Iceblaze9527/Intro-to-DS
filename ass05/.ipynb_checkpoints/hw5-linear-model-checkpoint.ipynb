{
 "cells": [
  {
   "cell_type": "code",
   "execution_count": 1,
   "metadata": {},
   "outputs": [],
   "source": [
    "import pandas as pd\n",
    "import numpy as np"
   ]
  },
  {
   "cell_type": "code",
   "execution_count": 2,
   "metadata": {},
   "outputs": [],
   "source": [
    "df = pd.read_csv('dataset.csv')"
   ]
  },
  {
   "cell_type": "code",
   "execution_count": 3,
   "metadata": {},
   "outputs": [],
   "source": [
    "x1 = (np.array([df['x1']])).T\n",
    "x2 = np.array([df['x2']]).T\n",
    "x3 = np.array([df['x3']]).T\n",
    "X = np.array([df['x1'], df['x2'], df['x3']]).T\n",
    "y = df['y'].values"
   ]
  },
  {
   "cell_type": "code",
   "execution_count": 4,
   "metadata": {},
   "outputs": [
    {
     "name": "stdout",
     "output_type": "stream",
     "text": [
      "(array([-2.03833663]), 5.927948918061609)\n"
     ]
    },
    {
     "data": {
      "text/plain": [
       "array([3.88961228, 1.85127565])"
      ]
     },
     "execution_count": 4,
     "metadata": {},
     "output_type": "execute_result"
    }
   ],
   "source": [
    "## Question 1:\n",
    "## Run a simple linear regression model to predict y from x1. \n",
    "## Report the linear model you found. \n",
    "## Predict the value of y for a new x1 values of 1 and 2 respectively.\n",
    "\n",
    "from sklearn.linear_model import LinearRegression\n",
    "\n",
    "model = LinearRegression(fit_intercept=True, normalize=False) \n",
    "model.fit(x1, y)\n",
    "print(model.coef_, model.intercept_)\n",
    "\n",
    "x1_new = np.array([[1], [2]]) \n",
    "model.predict(x1_new)"
   ]
  },
  {
   "cell_type": "markdown",
   "metadata": {},
   "source": [
    "### Question1 Quick Report:\n",
    "If we only use ``x1`` as a feature to make prediction with linear regression, the hypothetical model is:\n",
    "$$ h_{\\theta}(x_1) = \\theta_1 x_1 + \\theta_0$$\n",
    "\n",
    "Then the analytical solution of $\\theta$'s is:\n",
    "$$ \\theta^{*} = (x_1^{T}x_1)^{-1}x_1^{T}\\boldsymbol{y}$$\n",
    "\n",
    "By using linear regression model in ``sklearn``, we get:\n",
    "$$\\theta_1 = -2.0383 \\\\ \\theta_0 = 5.9279$$\n",
    "\n",
    "Using this model, we can predict that ``y`` will be ``3.8896`` and ``1.8513`` if ``x1 = 1`` and ``x1 = 2`` respectively."
   ]
  },
  {
   "cell_type": "code",
   "execution_count": 5,
   "metadata": {},
   "outputs": [
    {
     "name": "stdout",
     "output_type": "stream",
     "text": [
      "(array([-0.79724367]), 4.537549841542857)\n",
      "15.682727756450314\n"
     ]
    }
   ],
   "source": [
    "## Question 2:\n",
    "## Use cross-validation to predict generalization error, \n",
    "## while the error of a single data point (x1, y) from a model M is defined as (M(x1)−y)^2. \n",
    "## Describe how you did this.\n",
    "\n",
    "model = LinearRegression(fit_intercept=True, normalize=False) \n",
    "model.fit(x1[:70], y[:70])\n",
    "print(model.coef_, model.intercept_)\n",
    "\n",
    "x1_new = np.array([])\n",
    "for i in range(70,100):\n",
    "    x1_new = np.append(x1_new,[x1[i]])\n",
    "\n",
    "x1_new = x1_new.reshape(-1,1)\n",
    "y_pred = model.predict(x1_new)\n",
    "\n",
    "gen_error = 0\n",
    "for i in range(30):\n",
    "    gen_error += (y_pred[i] - y[i+70])**2\n",
    "\n",
    "gen_error = gen_error/30\n",
    "print(gen_error)"
   ]
  },
  {
   "cell_type": "markdown",
   "metadata": {},
   "source": [
    "### Question2 Quick Report:\n",
    "Split the dataset into training set and validation set by proportion 7:3. Implement the same method to the training set and we get:\n",
    "\n",
    "$$\\theta_1 = -0.7972 \\\\ \\theta_0 = 4.5375$$\n",
    "\n",
    "A salient difference to the model we obtain from Question 1.\n",
    "\n",
    "Using this model, we can predict the validation set and calculate generalization error as follows:\n",
    "\n",
    "$$I_S[h_{\\theta}] = \\frac{1}{30}\\sum_{i=1}^{30}(h_{\\theta}(x_{1i})-y_i)^2, (x_{1i},y_i)\\in V$$\n",
    "\n",
    "where $V$ is the validation set, then we get\n",
    "\n",
    "$$I_S[h_{\\theta}] = 15.6827$$\n",
    "\n",
    "Quite large number, which indicates that underfitting happens in the previous model, i.e. a linear model of ``x1`` is not enough to fit this dataset."
   ]
  },
  {
   "cell_type": "code",
   "execution_count": 6,
   "metadata": {},
   "outputs": [
    {
     "name": "stdout",
     "output_type": "stream",
     "text": [
      "[-1.00550258  1.98367369  3.27369294]\n",
      "4.251864056472463\n",
      "3.219030004977248\n"
     ]
    }
   ],
   "source": [
    "## Question 3:\n",
    "## Predict y from x1 by constructing polynomial regression models with degree of 2, 3, and 4 respectively.\n",
    "## Report polynomial models with the above three degrees. \n",
    "## With each of these models, predict the value of y for a new x1 values of 1 and 2 respectively.\n",
    "\n",
    "poly_degree = 2\n",
    "X1 = np.zeros((len(df), 0))\n",
    "for i in range(poly_degree,-1,-1):\n",
    "    X1 = np.column_stack((X1,x1**i))\n",
    "\n",
    "theta = np.linalg.solve(X1.T.dot(X1), X1.T.dot(y))\n",
    "\n",
    "X_new1 = np.ones(poly_degree + 1)\n",
    "y_new1 = X_new1.dot(theta)\n",
    "\n",
    "X_new2 = np.ones(poly_degree + 1)\n",
    "for i in range(poly_degree,-1,-1):\n",
    "    X_new2[i] = (2**i)*X_new2[i]\n",
    "X_new2 = X_new2[::-1]\n",
    "y_new2 = X_new2.dot(theta)\n",
    "\n",
    "print(theta)\n",
    "print(y_new1)\n",
    "print(y_new2)"
   ]
  },
  {
   "cell_type": "code",
   "execution_count": 7,
   "metadata": {},
   "outputs": [
    {
     "name": "stdout",
     "output_type": "stream",
     "text": [
      "[-8.59910796e-04 -1.00034312e+00  1.97545996e+00  3.27636183e+00]\n",
      "4.250618769472453\n",
      "3.219030004977263\n"
     ]
    }
   ],
   "source": [
    "poly_degree = 3\n",
    "X1 = np.zeros((len(df), 0))\n",
    "for i in range(poly_degree,-1,-1):\n",
    "    X1 = np.column_stack((X1,x1**i))\n",
    "\n",
    "theta = np.linalg.solve(X1.T.dot(X1), X1.T.dot(y))\n",
    "\n",
    "X_new1 = np.ones(poly_degree + 1)\n",
    "y_new1 = X_new1.dot(theta)\n",
    "\n",
    "X_new2 = np.ones(poly_degree + 1)\n",
    "for i in range(poly_degree,-1,-1):\n",
    "    X_new2[i] = (2**i)*X_new2[i]\n",
    "X_new2 = X_new2[::-1]\n",
    "y_new2 = X_new2.dot(theta)\n",
    "\n",
    "print(theta)\n",
    "print(y_new1)\n",
    "print(y_new2)"
   ]
  },
  {
   "cell_type": "code",
   "execution_count": 8,
   "metadata": {},
   "outputs": [
    {
     "name": "stdout",
     "output_type": "stream",
     "text": [
      "[-0.00383093  0.02978751 -1.0788899   2.0444677   3.26318505]\n",
      "4.254719440387376\n",
      "3.21356611535215\n"
     ]
    }
   ],
   "source": [
    "poly_degree = 4\n",
    "X1 = np.zeros((len(df), 0))\n",
    "for i in range(poly_degree,-1,-1):\n",
    "    X1 = np.column_stack((X1,x1**i))\n",
    "\n",
    "theta = np.linalg.solve(X1.T.dot(X1), X1.T.dot(y))\n",
    "\n",
    "X_new1 = np.ones(poly_degree + 1)\n",
    "y_new1 = X_new1.dot(theta)\n",
    "\n",
    "X_new2 = np.ones(poly_degree + 1)\n",
    "for i in range(poly_degree,-1,-1):\n",
    "    X_new2[i] = (2**i)*X_new2[i]\n",
    "X_new2 = X_new2[::-1]\n",
    "y_new2 = X_new2.dot(theta)\n",
    "\n",
    "print(theta)\n",
    "print(y_new1)\n",
    "print(y_new2)"
   ]
  },
  {
   "cell_type": "markdown",
   "metadata": {},
   "source": [
    "### Question3 Quick Report:\n",
    "If we only use ``x1`` as a feature to make prediction with polynomial regression, and the highest degree is ``d``, the hypothetical model can be written as:\n",
    "\n",
    "$$ h_{\\theta}(x_1) = \\sum_{i=0}^{d}\\theta_i x_1^i$$\n",
    "\n",
    "Then the analytical solution of $\\theta$'s is:\n",
    "$$ \\theta^{*} = (X_1^{T}X_1)^{-1}X_1^{T}\\boldsymbol{y}$$\n",
    "\n",
    "where $X_1$ is a $(d + 1) * n $ matrix constructed as follows (``n`` refers to sample number):\n",
    "\n",
    "$$\n",
    "X_1 = \n",
    "\\begin{bmatrix}\n",
    "-(x_1^{d})^{T}-\\\\\n",
    "-(x_1^{d-1})^{T}-\\\\\n",
    "-...-\\\\\n",
    "-(x_1^{0})^{T}-\\\\\n",
    "\\end{bmatrix}\n",
    "$$\n",
    "\n",
    "By using linear regression model, we get $\\theta$ for ``d = 2,3,4`` respectively:\n",
    "\n",
    "$$\\theta = \n",
    "\\begin{equation}\n",
    "\\begin{cases}\n",
    "[-1.0055, 1.9837, 3.2737] & d = 2 \\\\\n",
    "[-8.6\\times 10^{-4}, -1.0003, 1.9755, 3.2764] & d = 3 \\\\\n",
    "[-3.8\\times 10^{-3}, 0.0298, -1.0789, 2.0445, 3.2632] & d = 4\\\\\n",
    "\\end{cases}\n",
    "\\end{equation}\n",
    "$$\n",
    "\n",
    "The corresponding ``y`` with ``x1 = 1`` and ``x1 = 2`` is:\n",
    "\n",
    "$$y = \n",
    "\\begin{equation}\n",
    "\\begin{cases}\n",
    "[4.2519, 3.2190] & d = 2 \\\\\n",
    "[4.2506, 3.2190] & d = 3 \\\\\n",
    "[4.2547, 3.2136] & d = 4\\\\\n",
    "\\end{cases}\n",
    "\\end{equation}\n",
    "$$\n",
    "\n",
    "As can be seen from the results, the quadratic model fits the given data quite well. Higher degree models get miniature $\\theta$ for higher indexes and produce similar results to it. So we can confidentally suppose that the given data can be described (may not fully) by ``x1``'s quadratic model. "
   ]
  },
  {
   "cell_type": "code",
   "execution_count": 9,
   "metadata": {},
   "outputs": [
    {
     "name": "stdout",
     "output_type": "stream",
     "text": [
      "(array([-2.00371927,  0.53256334, -0.26560187]), 5.31416717245698)\n"
     ]
    },
    {
     "data": {
      "text/plain": [
       "array([3.57740937, 2.24804044, 0.10253417])"
      ]
     },
     "execution_count": 9,
     "metadata": {},
     "output_type": "execute_result"
    }
   ],
   "source": [
    "## Question 4:\n",
    "## Run a simple linear regression model to predict y from X. \n",
    "## Report the linear model you found. \n",
    "## Predict the value of y for a new X values of (1, 1, 1), (1, 0, 4), and (3, 2, 1) respectively.\n",
    "\n",
    "model = LinearRegression(fit_intercept=True, normalize=False) \n",
    "model.fit(X, y)\n",
    "print(model.coef_, model.intercept_)\n",
    "\n",
    "for i in range(70,100):\n",
    "    X_new = np.array([[1,1,1], [1,0,4], [3,2,1]]) \n",
    "\n",
    "model.predict(X_new)"
   ]
  },
  {
   "cell_type": "markdown",
   "metadata": {},
   "source": [
    "### Question4 Quick Report:\n",
    "If the corresponding hypothetical model is:\n",
    "$$ h_{\\theta}(\\boldsymbol{x}) = \\theta^{T}\\boldsymbol{x} $$\n",
    "\n",
    "and we have ``n`` observations $(\\boldsymbol{x_1},y_1), ..., (\\boldsymbol{x_n},y_n)$\n",
    "\n",
    "Then the analytical solution of $\\theta$'s is:\n",
    "$$ \\theta^{*} = (X^{T}X)^{-1}X^{T}\\boldsymbol{y}$$\n",
    "\n",
    "where $X$ is a $ 4 * n $ matrix constructed as follows:\n",
    "\n",
    "$$\n",
    "X = \n",
    "\\begin{bmatrix}\n",
    "-x_1^{T}-\\\\\n",
    "-x_2^{T}-\\\\\n",
    "-x_3^{T}-\\\\\n",
    "-\\mathbb{1}^{T}-\\\\\n",
    "\\end{bmatrix}\n",
    "$$\n",
    "\n",
    "By using linear regression model in ``sklearn``, we get:\n",
    "$$\\theta = [-2.0037, 0.5326, -0.2656, 5.3142]$$\n",
    "\n",
    "Using this model, we can predict that ``y`` will be ``3.5774``, ``2.2480``and ``0.1025`` respectively with the given points."
   ]
  },
  {
   "cell_type": "code",
   "execution_count": 10,
   "metadata": {},
   "outputs": [
    {
     "name": "stdout",
     "output_type": "stream",
     "text": [
      "(array([-0.78645836,  0.48430326, -0.30035386]), 4.106935599602342)\n",
      "14.553030639713255\n"
     ]
    }
   ],
   "source": [
    "## Question 5:\n",
    "## Use cross-validation to predict generalization error, \n",
    "## while the error of a single data point (X, y) from a model M is defined as (M(X)−y)^2. \n",
    "## Describe how you did this.\n",
    "\n",
    "model = LinearRegression(fit_intercept=True, normalize=False) \n",
    "model.fit(X[:70], y[:70])\n",
    "print(model.coef_, model.intercept_)\n",
    "\n",
    "X_new = np.array([])\n",
    "for i in range(70,100):\n",
    "    X_new = np.append(X_new,[x1[i],x2[i],x3[i]])\n",
    "\n",
    "X_new = X_new.reshape(30,3)\n",
    "y_pred = model.predict(X_new)\n",
    "\n",
    "gen_error = 0\n",
    "for i in range(30):\n",
    "    gen_error += (y_pred[i] - y[i+70])**2\n",
    "\n",
    "gen_error = gen_error/30\n",
    "print(gen_error)"
   ]
  },
  {
   "cell_type": "markdown",
   "metadata": {},
   "source": [
    "### Question5 Quick Report:\n",
    "Split the dataset into training set and validation set by proportion 7:3. Implement the same method to the training set and we get:\n",
    "\n",
    "$$\\theta = [-0.7865,  0.4843, -0.3004, 4.1069]$$\n",
    "\n",
    "A salient difference to the model we obtain from Question 1 mainly in ``x1`` and the intercept.\n",
    "\n",
    "Using this model, we can predict the validation set and calculate generalization error as follows:\n",
    "\n",
    "$$I_S[h_{\\theta}] = \\frac{1}{n}\\sum_{i=1}^{30}(h_{\\theta}(x_{i})-y_i)^2, (x_{i},y_i)\\in V$$\n",
    "\n",
    "where $V$ is the validation set, then we get\n",
    "\n",
    "$$I_S[h_{\\theta}] = 14.5530$$\n",
    "\n",
    "Quite large number, which indicates that underfitting happens in the previous model, i.e. a linear model of is not enough to fit this dataset, maybe partially due to the nonlinearity with respect to ``x1``."
   ]
  }
 ],
 "metadata": {
  "kernelspec": {
   "display_name": "Python 3",
   "language": "python",
   "name": "python3"
  },
  "language_info": {
   "codemirror_mode": {
    "name": "ipython",
    "version": 2
   },
   "file_extension": ".py",
   "mimetype": "text/x-python",
   "name": "python",
   "nbconvert_exporter": "python",
   "pygments_lexer": "ipython2",
   "version": "2.7.16"
  }
 },
 "nbformat": 4,
 "nbformat_minor": 2
}
