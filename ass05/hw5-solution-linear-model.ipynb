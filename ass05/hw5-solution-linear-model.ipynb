{
 "cells": [
  {
   "cell_type": "code",
   "execution_count": 1,
   "metadata": {},
   "outputs": [],
   "source": [
    "import pandas as pd\n",
    "import numpy as np"
   ]
  },
  {
   "cell_type": "code",
   "execution_count": 2,
   "metadata": {},
   "outputs": [],
   "source": [
    "df = pd.read_csv('dataset.csv')"
   ]
  },
  {
   "cell_type": "code",
   "execution_count": 3,
   "metadata": {},
   "outputs": [],
   "source": [
    "x1 = np.array([df['x1']]).T\n",
    "x2 = np.array([df['x2']]).T\n",
    "x3 = np.array([df['x3']]).T\n",
    "X = np.array([df['x1'], df['x2'], df['x3']]).T\n",
    "y = df['y'].values"
   ]
  },
  {
   "cell_type": "code",
   "execution_count": 4,
   "metadata": {},
   "outputs": [
    {
     "name": "stdout",
     "output_type": "stream",
     "text": [
      "Estimated coefficients of the model:  [-2.03833663]\n",
      "Independent term in the linear model:  5.927948918061611\n",
      "The value of new x1:  [3.88961228 1.85127565]\n"
     ]
    },
    {
     "name": "stderr",
     "output_type": "stream",
     "text": [
      "/Library/Frameworks/Python.framework/Versions/3.6/lib/python3.6/site-packages/scipy/linalg/basic.py:1018: RuntimeWarning: internal gelsd driver lwork query error, required iwork dimension not returned. This is likely the result of LAPACK bug 0038, fixed in LAPACK 3.2.2 (released July 21, 2010). Falling back to 'gelss' driver.\n",
      "  warnings.warn(mesg, RuntimeWarning)\n"
     ]
    },
    {
     "data": {
      "image/png": "[encoded data removed]",
      "text/plain": [
       "<Figure size 432x288 with 1 Axes>"
      ]
     },
     "metadata": {},
     "output_type": "display_data"
    }
   ],
   "source": [
    "## Question 1:\n",
    "## Run a simple linear regression model to predict y from x1. \n",
    "## Report the linear model you found. \n",
    "## Predict the value of y for a new x1 values of 1 and 2 respectively.\n",
    "## \n",
    "## Your code here\n",
    "##\n",
    "\n",
    "from sklearn import linear_model\n",
    "import matplotlib.pyplot as plt\n",
    "import seaborn as sns;sns.set()\n",
    "%matplotlib inline\n",
    "\n",
    "model_1 = linear_model.LinearRegression()\n",
    "model_1.fit(x1,y)\n",
    "print(\"Estimated coefficients of the model: \", model_1.coef_) \n",
    "print(\"Independent term in the linear model: \", model_1.intercept_)\n",
    "y_pred = model_1.predict(x1)\n",
    "plt.plot(x1,y_pred)\n",
    "plt.scatter(x1,y,c='r',s=20,alpha=0.5)\n",
    "\n",
    "\n",
    "new_x1=np.array([[1],[2]])\n",
    "print(\"The value of new x1: \", model_1.predict(new_x1))"
   ]
  },
  {
   "cell_type": "code",
   "execution_count": 5,
   "metadata": {},
   "outputs": [
    {
     "name": "stdout",
     "output_type": "stream",
     "text": [
      "Generalization error on the test set is 1.61762.\n",
      "Generalization error on the test set is 2.63475.\n",
      "Generalization error on the test set is 2.13013.\n",
      "Generalization error on the test set is 1.90596.\n",
      "Generalization error on the test set is 2.29311.\n",
      "2.116316805751582\n",
      "Generalization error on the test set is 2.37834.\n"
     ]
    }
   ],
   "source": [
    "## Question 2:\n",
    "## Use cross-validation to predict generalization error, \n",
    "## while the error of a single data point (x1, y) from a model M is defined as (M(x1)−y)^2. \n",
    "## Describe how you did this.\n",
    "## \n",
    "## Your code here\n",
    "##\n",
    "\n",
    "## Option 1: K-fold Cross Validation\n",
    "from sklearn import linear_model\n",
    "from sklearn import model_selection\n",
    "MSE_all = 0.0\n",
    "K = 5\n",
    "kf = model_selection.KFold(n_splits=K, shuffle=True)\n",
    "for train_index, test_index in kf.split(x1,y):\n",
    "    x1_train, x1_test = x1[train_index], x1[test_index]\n",
    "    y_train, y_test = y[train_index], y[test_index]\n",
    "    model_1 = linear_model.LinearRegression(fit_intercept=True, normalize=False)\n",
    "    model_1.fit(x1_train,y_train)\n",
    "    y_pred = model_1.predict(x1_test)\n",
    "    from sklearn.metrics import mean_squared_error\n",
    "    MSE = mean_squared_error(y_test, y_pred)\n",
    "    print('Generalization error on the test set is %.5f.'% MSE)\n",
    "    MSE_all += MSE\n",
    "print(MSE_all / K)\n",
    "    \n",
    "\n",
    "# Option 2: Split Validation\n",
    "from sklearn.model_selection import train_test_split\n",
    "x1_train, x1_test, y_train, y_test = train_test_split(x1, y, test_size =.3, random_state=1)\n",
    "\n",
    "from sklearn import linear_model\n",
    "model_1 = linear_model.LinearRegression(fit_intercept=True, normalize=False)\n",
    "model_1.fit(x1_train,y_train)\n",
    "\n",
    "y_pred = model_1.predict(x1_test)\n",
    "from sklearn.metrics import mean_squared_error\n",
    "MSE = mean_squared_error(y_test, y_pred)\n",
    "print('Generalization error on the test set is %.5f.'% MSE)"
   ]
  },
  {
   "cell_type": "code",
   "execution_count": 6,
   "metadata": {},
   "outputs": [
    {
     "name": "stdout",
     "output_type": "stream",
     "text": [
      "Estimated coefficients: (Degree 2):  [ 0.          1.98367369 -1.00550258]\n",
      "Independent term (Degree 2):  3.2736929436564806\n",
      "Estimated coefficients: (Degree 3):  [ 0.00000000e+00  1.97545996e+00 -1.00034312e+00 -8.59910796e-04]\n",
      "Independent term (Degree 3):  3.2763618344299554\n",
      "Estimated coefficients: (Degree 4):  [ 0.          2.0444677  -1.0788899   0.02978751 -0.00383093]\n",
      "Independent term (Degree 4):  3.263185052455023\n",
      "\n",
      "[polynomial regression models with degree of 2] The value of new x1:  [4.25186406 3.21903   ]\n",
      "[polynomial regression models with degree of 3] The value of new x1:  [4.25061877 3.21903   ]\n",
      "[polynomial regression models with degree of 4] The value of new x1:  [4.25471944 3.21356612]\n"
     ]
    }
   ],
   "source": [
    "## Question 3:\n",
    "## Predict y from x1 by consturcting polynomial regression models with degree of 2, 3, and 4 respectively.\n",
    "## Report polynomial models with the above three degrees. \n",
    "## With each of these models, predict the value of y for a new x1 values of 1 and 2 respectively.\n",
    "## \n",
    "## Your code here\n",
    "##\n",
    "\n",
    "from sklearn.preprocessing import PolynomialFeatures\n",
    "from sklearn.pipeline import Pipeline\n",
    "\n",
    "\n",
    "model_2= Pipeline([('poly', PolynomialFeatures(degree=2)),\n",
    "           ('linear',linear_model.LinearRegression())])\n",
    "\n",
    "model_3= Pipeline([('poly', PolynomialFeatures(degree=3)),\n",
    "           ('linear',linear_model.LinearRegression())])\n",
    "\n",
    "model_4= Pipeline([('poly', PolynomialFeatures(degree=4)),\n",
    "           ('linear',linear_model.LinearRegression())])\n",
    "\n",
    "model_2.fit(x1,y)\n",
    "model_3.fit(x1,y)\n",
    "model_4.fit(x1,y)\n",
    "\n",
    "print(\"Estimated coefficients: (Degree 2): \", model_2.named_steps['linear'].coef_) \n",
    "print(\"Independent term (Degree 2): \", model_2.named_steps['linear'].intercept_)\n",
    "print(\"Estimated coefficients: (Degree 3): \", model_3.named_steps['linear'].coef_) \n",
    "print(\"Independent term (Degree 3): \", model_3.named_steps['linear'].intercept_)\n",
    "print(\"Estimated coefficients: (Degree 4): \", model_4.named_steps['linear'].coef_) \n",
    "print(\"Independent term (Degree 4): \", model_4.named_steps['linear'].intercept_)\n",
    "\n",
    "print()\n",
    "new_x1=np.array([[1],[2]])\n",
    "print(\"[polynomial regression models with degree of 2] The value of new x1: \", model_2.predict(new_x1))\n",
    "print(\"[polynomial regression models with degree of 3] The value of new x1: \", model_3.predict(new_x1))\n",
    "print(\"[polynomial regression models with degree of 4] The value of new x1: \", model_4.predict(new_x1))"
   ]
  },
  {
   "cell_type": "code",
   "execution_count": 7,
   "metadata": {},
   "outputs": [
    {
     "data": {
      "text/plain": [
       "<matplotlib.collections.PathCollection at 0x115be7828>"
      ]
     },
     "execution_count": 7,
     "metadata": {},
     "output_type": "execute_result"
    },
    {
     "data": {
      "image/png": "[encoded data removed]",
      "text/plain": [
       "<Figure size 432x288 with 1 Axes>"
      ]
     },
     "metadata": {},
     "output_type": "display_data"
    }
   ],
   "source": [
    "y_pred=model_2.predict(x1)\n",
    "plt.plot(x1,y_pred)\n",
    "plt.scatter(x1,y,c='r',s=20,alpha=0.5)"
   ]
  },
  {
   "cell_type": "code",
   "execution_count": 8,
   "metadata": {},
   "outputs": [
    {
     "data": {
      "text/plain": [
       "<matplotlib.collections.PathCollection at 0x115cae2e8>"
      ]
     },
     "execution_count": 8,
     "metadata": {},
     "output_type": "execute_result"
    },
    {
     "data": {
      "image/png": "[encoded data removed]",
      "text/plain": [
       "<Figure size 432x288 with 1 Axes>"
      ]
     },
     "metadata": {},
     "output_type": "display_data"
    }
   ],
   "source": [
    "y_pred=model_3.predict(x1)\n",
    "plt.plot(x1,y_pred)\n",
    "plt.scatter(x1,y,c='r',s=20,alpha=0.5)"
   ]
  },
  {
   "cell_type": "code",
   "execution_count": 9,
   "metadata": {},
   "outputs": [
    {
     "data": {
      "text/plain": [
       "<matplotlib.collections.PathCollection at 0x115d099b0>"
      ]
     },
     "execution_count": 9,
     "metadata": {},
     "output_type": "execute_result"
    },
    {
     "data": {
      "image/png": "[encoded data removed]",
      "text/plain": [
       "<Figure size 432x288 with 1 Axes>"
      ]
     },
     "metadata": {},
     "output_type": "display_data"
    }
   ],
   "source": [
    "y_pred=model_4.predict(x1)\n",
    "plt.plot(x1,y_pred)\n",
    "plt.scatter(x1,y,c='r',s=20,alpha=0.5)"
   ]
  },
  {
   "cell_type": "code",
   "execution_count": 10,
   "metadata": {},
   "outputs": [
    {
     "name": "stdout",
     "output_type": "stream",
     "text": [
      "Estimated coefficients of the model:  [-2.00371927  0.53256334 -0.26560187]\n",
      "Independent term in the linear model:  5.314167172456982\n",
      "The value of new x1:  [3.57740937 2.24804044 0.10253417]\n"
     ]
    }
   ],
   "source": [
    "## Question 4:\n",
    "## Run a simple linear regression model to predict y from X. \n",
    "## Report the linear model you found. \n",
    "## Predict the value of y for a new X values of (1, 1, 1), (1, 0, 4), and (3, 2, 1) respectively.\n",
    "##\n",
    "## your code here\n",
    "##\n",
    "\n",
    "model_5 =linear_model.LinearRegression()\n",
    "\n",
    "model_5.fit(X,y)\n",
    "\n",
    "print(\"Estimated coefficients of the model: \", model_5.coef_) \n",
    "print(\"Independent term in the linear model: \", model_5.intercept_)\n",
    "\n",
    "new_X =np.array([[1,1,1],[1,0,4],[3,2,1]])\n",
    "print(\"The value of new x1: \", model_5.predict(new_X))"
   ]
  },
  {
   "cell_type": "code",
   "execution_count": 11,
   "metadata": {},
   "outputs": [
    {
     "name": "stdout",
     "output_type": "stream",
     "text": [
      "Generalization error on the test set is 1.60930.\n",
      "Generalization error on the test set is 1.68625.\n",
      "Generalization error on the test set is 1.85704.\n",
      "Generalization error on the test set is 2.01778.\n",
      "Generalization error on the test set is 1.38406.\n",
      "1.7108849474532317\n",
      "Generalization error on the test set is 1.61844.\n"
     ]
    }
   ],
   "source": [
    "## Question 5:\n",
    "## Use cross-validation to predict generalization error, \n",
    "## while the error of a single data point (X, y) from a model M is defined as (M(X)−y)^2. \n",
    "## Describe how you did this.\n",
    "## \n",
    "## Your code here\n",
    "##\n",
    "\n",
    "## Option 1: K-fold Cross Validation\n",
    "from sklearn import linear_model\n",
    "from sklearn import model_selection\n",
    "from sklearn.metrics import mean_squared_error\n",
    "MSE_all = 0.0\n",
    "K = 5\n",
    "kf = model_selection.KFold(n_splits=K, shuffle=True)\n",
    "for train_index, test_index in kf.split(X,y):\n",
    "    x_train, x_test = X[train_index], X[test_index]\n",
    "    y_train, y_test = y[train_index], y[test_index]\n",
    "    model_5 = linear_model.LinearRegression(fit_intercept=True, normalize=False)\n",
    "    model_5.fit(x_train,y_train)\n",
    "    y_pred = model_5.predict(x_test)\n",
    "    MSE = mean_squared_error(y_test, y_pred)\n",
    "    print('Generalization error on the test set is %.5f.'% MSE)\n",
    "    MSE_all += MSE\n",
    "print(MSE_all / K)\n",
    "\n",
    "\n",
    "## Option 2: split validation\n",
    "from sklearn.model_selection import train_test_split\n",
    "x_train, x_test, y_train, y_test = train_test_split(X, y, test_size =.3, random_state=2)\n",
    "\n",
    "from sklearn import linear_model\n",
    "model_5 = linear_model.LinearRegression(fit_intercept=True, normalize=False)\n",
    "model_5.fit(x_train,y_train)\n",
    "intercept = model_5.intercept_\n",
    "coef = model_5.coef_\n",
    "\n",
    "y_pred = model_5.predict(x_test)\n",
    "from sklearn.metrics import mean_squared_error\n",
    "MSE = mean_squared_error(y_test, y_pred)\n",
    "print('Generalization error on the test set is %.5f.'% MSE)"
   ]
  },
  {
   "cell_type": "code",
   "execution_count": null,
   "metadata": {},
   "outputs": [],
   "source": []
  }
 ],
 "metadata": {
  "kernelspec": {
   "display_name": "Python 3",
   "language": "python",
   "name": "python3"
  },
  "language_info": {
   "codemirror_mode": {
    "name": "ipython",
    "version": 3
   },
   "file_extension": ".py",
   "mimetype": "text/x-python",
   "name": "python",
   "nbconvert_exporter": "python",
   "pygments_lexer": "ipython3",
   "version": "3.6.5"
  }
 },
 "nbformat": 4,
 "nbformat_minor": 2
}
