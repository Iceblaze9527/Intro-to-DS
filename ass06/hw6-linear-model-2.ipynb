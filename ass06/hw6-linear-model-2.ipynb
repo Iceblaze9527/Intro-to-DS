{
 "nbformat": 4,
 "nbformat_minor": 2,
 "metadata": {
  "language_info": {
   "name": "python",
   "codemirror_mode": {
    "name": "ipython",
    "version": 3
   }
  },
  "orig_nbformat": 2,
  "file_extension": ".py",
  "mimetype": "text/x-python",
  "name": "python",
  "npconvert_exporter": "python",
  "pygments_lexer": "ipython3",
  "version": 3
 },
 "cells": [
  {
   "cell_type": "code",
   "execution_count": 1,
   "metadata": {},
   "outputs": [],
   "source": [
    "import pandas as pd\n",
    "import numpy as np\n",
    "from sklearn import linear_model\n",
    "\n",
    "df = pd.read_csv('dataset.csv')\n",
    "x1 = (np.array([df['x1']])).T\n",
    "x2 = np.array([df['x2']]).T\n",
    "x3 = np.array([df['x3']]).T\n",
    "X = np.array([df['x1'], df['x2'], df['x3']]).T\n",
    "y = df['y'].values"
   ]
  },
  {
   "cell_type": "code",
   "execution_count": 2,
   "metadata": {},
   "outputs": [
    {
     "name": "stdout",
     "output_type": "stream",
     "text": "[-1.15920284  0.31171027 -0.21347097] 3.964663902708537 100.0\n"
    }
   ],
   "source": [
    "model_ridge = linear_model.RidgeCV(alphas=np.logspace(-6, 6, 13), cv=5, fit_intercept=True)\n",
    "model_ridge.fit(X, y)\n",
    "\n",
    "print(model_ridge.coef_, model_ridge.intercept_, model_ridge.alpha_)"
   ]
  },
  {
   "cell_type": "code",
   "execution_count": 3,
   "metadata": {},
   "outputs": [
    {
     "name": "stdout",
     "output_type": "stream",
     "text": "[-1.93814754  0.46195158 -0.2012904 ] 5.198196758698374 0.1\n"
    }
   ],
   "source": [
    "model_lasso = linear_model.LassoCV(alphas=np.logspace(-6, 6, 13), cv=5, fit_intercept=True)\n",
    "model_lasso.fit(X, y)\n",
    "\n",
    "print(model_lasso.coef_, model_lasso.intercept_, model_lasso.alpha_)"
   ]
  },
  {
   "cell_type": "code",
   "execution_count": null,
   "metadata": {},
   "outputs": [],
   "source": []
  }
 ]
}